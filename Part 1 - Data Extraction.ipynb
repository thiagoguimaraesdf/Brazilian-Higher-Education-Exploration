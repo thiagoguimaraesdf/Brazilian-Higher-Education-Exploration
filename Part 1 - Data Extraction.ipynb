{
 "cells": [
  {
   "cell_type": "markdown",
   "metadata": {},
   "source": [
    "# Analysis of Brazilian Higher Education Data\n",
    "### (Part 1 - Data Extraction)"
   ]
  },
  {
   "cell_type": "markdown",
   "metadata": {},
   "source": [
    "<b>Date:</b> 01/09/2020\n",
    "\n",
    "<b>Author:</b> Cardoso, Thiago (thiago.guimaraesdf10@gmail.com)\n",
    "\n",
    "<b>Project Description:</b> This study seeks to organize and develop a basic analysis of higher education data available for Brazilians public and private institutions. This is my first data science/exploration project using Python, therefore the analysis and codes showcased are far from being a repository of best practice. Any suggestions to improve this project are appreciated.\n",
    "\n",
    "For better organization and comprehension, this study is divided into 3 parts:\n",
    "\n",
    "- <b>Part 1 - Data Extraction</b>: Description of datasets used in the project, its sources and the path to download it. This notebook will be updated if future analysis demands new datasets.\n",
    "- <b>Part 2 - Data Cleaning</b>: Code used to clean data and standardize column names. The main goal is to have comparable panel data, with annual information for courses, students, and institutions in the last decade.\n",
    "- <b>Part 3 - Data Analysis</b>: The analysis is subdivided into 6 sections. The first section analysis the historical panorama of higher education growth in Brazil, especially in the last 10 years.\n",
    "\n",
    "<b>This notebook is related to Part 1</b>\n",
    "\n",
    "<b>Important issues:</b>\n",
    "\n",
    "- English is not my mother language. Sorry for the mistakes;\n",
    "- Many (maybe most) code lines lack consistency, performance and/or efficiency. Did my best to conciliate productivity and code quality. Any suggestions to improve code lines are welcome;\n",
    "- The Analysis and Data Cleaning only scratch the surface of the extremely rich data used in this study.  Any author seeking to further this study fell free to contact me. I can also help with any translation issue and provide information for additional sources of data in Brazil."
   ]
  },
  {
   "cell_type": "markdown",
   "metadata": {},
   "source": [
    "## Library Import"
   ]
  },
  {
   "cell_type": "code",
   "execution_count": 4,
   "metadata": {},
   "outputs": [],
   "source": [
    "\n",
    "import os\n",
    "import shutil\n",
    "import time\n",
    "from os import path\n",
    "\n",
    "import webbrowser\n",
    "import xlsxwriter\n",
    "import zipfile\n",
    "\n",
    "import numpy as np\n",
    "import pandas as pd\n",
    "import matplotlib.pyplot as plt\n",
    "import plotly.express as px\n",
    "import seaborn as sns\n",
    "import folium\n",
    "\n",
    "%matplotlib inline"
   ]
  },
  {
   "cell_type": "markdown",
   "metadata": {},
   "source": [
    "## Brazilian Higher Education Census - 1995 to 2018"
   ]
  },
  {
   "cell_type": "markdown",
   "metadata": {},
   "source": [
    "Data from Brazilian public and private higher education institutions (HEI) are collected and organized by the <a href=\"http://inep.gov.br/web/guest/about-inep\">\"National Institute for Educational Studies and Research Anísio Teixeira (INEP)\"</a>. Since 2009, INEP publishes the Higher Education Census microdata at student, teacher, course and institution level. Here is a brief description of the Higher Education Census provided by INEP:\n",
    "\n",
    "    Annually, this initiative collects data on higher education in the country, including graduate and sequential courses – both attendance and distance learning courses, providing a \"radiography\" of this educational level.\n",
    "\n",
    "    Higher education institutions fill out the census online forms and, based on this data, provide policy makers with an overview of educational policy trends. By collecting data regarding the number of enrollment and graduates, candidates to university entrance; information on faculty – by qualifications and contract nature – as well as on administrative and support staff; financial data and infrastructure, this initiative provides valuable information about an educational level that is perceived to be in a process of expanding and diversifying.\"\n",
    "\n",
    "From 1995 to 2008, INEP published data only at course and institution level. In this study, we focus on extracting, cleaning, and analyzing data from 2009–2018. Further work needs to be made in order to organize 1995 to 2008 data.\n",
    "\n",
    "The code bellow downloads all Higher Education Census files, from 1995 to 2018, from the INEP website, one at a time."
   ]
  },
  {
   "cell_type": "code",
   "execution_count": null,
   "metadata": {},
   "outputs": [],
   "source": [
    "# Data extration (Higher Education Census)\n",
    "\n",
    "# Files names are in different formats:\n",
    "#\n",
    "# - 1995 to 2008 and 2017 to 2018 files are named microdados_educacao_superior_YEAR.zip\n",
    "# - 2009 to 2016 files are named microdados_censo_superior_YEAR.zip\n",
    "#\n",
    "# At this date (16/08/2020) all files can be found in http://download.inep.gov.br/microdados\n",
    "\n",
    "years = list(range(1995,2008))\n",
    "years.extend([2017,2018])\n",
    "\n",
    "for y in years:\n",
    "    \n",
    "    webbrowser.open(\"http://download.inep.gov.br/microdados/microdados_educacao_superior_\" + str(y) + \".zip\")\n",
    "    \n",
    "    while not os.path.exists(\"C:/Users/Thiago/Downloads/microdados_educacao_superior_\" + str(y) + \".zip\"):\n",
    "         time.sleep(1)\n",
    "            \n",
    "    if os.path.isfile(\"C:/Users/Thiago/Downloads/microdados_educacao_superior_\" + str(y) + \".zip\"):\n",
    "        continue\n",
    "\n",
    "for y in range(2009,2016):\n",
    "  \n",
    "    webbrowser.open(\"http://download.inep.gov.br/microdados/microdados_censo_superior_\" + str(y) + \".zip\")\n",
    "    \n",
    "    while not os.path.exists(\"C:/Users/Thiago/Downloads/microdados_censo_superior_\" + str(y) + \".zip\"):\n",
    "         time.sleep(1)\n",
    "            \n",
    "    if os.path.isfile(\"C:/Users/Thiago/Downloads/microdados_censo_superior_\" + str(y) + \".zip\"):\n",
    "        continue  "
   ]
  },
  {
   "cell_type": "markdown",
   "metadata": {},
   "source": [
    "## National Assessment of Student Achievement (ENADE) - 2004 to 2018"
   ]
  },
  {
   "cell_type": "markdown",
   "metadata": {},
   "source": [
    "ENADE is an external evaluation applied annually to assess undergraduate students learning in their final year. Each course is assessed every three years since programs are grouped in three representative areas and each year one group is assessed.\n",
    "\n",
    "ENADE microdata provides information at the student level (unidentified), regarding each student's answers and results in the content assessment and also its answers to a socioeconomic and course quality perception questionary.\n",
    "\n",
    "I still did not work on ENADE data. However, I already extracted it for future analysis. The code bellow download all ENADE files, from 2004 to 2018, from INEP website, one at a time"
   ]
  },
  {
   "cell_type": "code",
   "execution_count": null,
   "metadata": {},
   "outputs": [],
   "source": [
    "# Data extration (ENADE)\n",
    "\n",
    "years = list(range(2004,2016))\n",
    "years.extend([2018])\n",
    "\n",
    "for y in years:  \n",
    "    webbrowser.open(\"http://download.inep.gov.br/microdados/Enade_Microdados/microdados_enade_\" + str(y) + \".zip\")    \n",
    "    while not os.path.exists(\"C:/Users/Thiago/Downloads/microdados_enade_\" + str(y) + \".zip\"):\n",
    "         time.sleep(1)           \n",
    "    if os.path.isfile(\"C:/Users/Thiago/Downloads/microdados_enade_\" + str(y) + \".zip\"):\n",
    "        continue\n",
    "\n",
    "webbrowser.open(\"http://download.inep.gov.br/microdados/Enade_Microdados/microdados_enade_2016_versao_28052018.zip\")       \n",
    "webbrowser.open(\"http://download.inep.gov.br/microdados/Enade_Microdados/microdados_Enade_2017_portal_2018.10.09.zip\")       "
   ]
  },
  {
   "cell_type": "markdown",
   "metadata": {},
   "source": [
    "## Preliminar Cource concept (CPC)"
   ]
  },
  {
   "cell_type": "markdown",
   "metadata": {},
   "source": [
    "CPC is an index, ranging from 1 to 5, calculated by INEP to assess undergraduate course quality. In this work, only 2009 and 2018 CPC data is used. \n",
    "\n",
    "The 2018 CPC is calculated according to the following aspects and weights:\n",
    "\n",
    "- 20% - Students performance in ENADE, \n",
    "- 35% - Dif between expected and observed performance in ENADE (expected performance is calculated considing perfomance in courses with similiar students background), \n",
    "- 7,5% - Proportion of teachers with MA degree, \n",
    "- 15% - Proportion of teachers with Ph.D degree, \n",
    "- 7,5% - Teachers work regime, \n",
    "- 15% - Teachers perception regarding infraestructure, pedagogical organizatioin and opportunies to improvel academic and professional formation.\n",
    "\n",
    "2009 CPC has slight variations in some aspects weight\n",
    "\n",
    "CPC data from 2010 to 2017 can be found <a href='http://inep.gov.br/web/guest/educacao-superior/indicadores-de-qualidade/resultados'>here</a>\n",
    "\n",
    "Further information for the CPC can be found <a href='http://inep.gov.br/web/guest/educacao-superior/indicadores-de-qualidade/indice-geral-de-cursos-igc-'>here</a>"
   ]
  },
  {
   "cell_type": "code",
   "execution_count": null,
   "metadata": {},
   "outputs": [],
   "source": [
    "# CPC 2009\n",
    "webbrowser.open(\"http://download.inep.gov.br/download/enade/2009/cpc_decomposto_2009.xls\")    \n",
    "while not os.path.exists(\"C:/Users/Thiago/Downloads/cpc_decomposto_2009.xls\"):\n",
    "    time.sleep(1)            \n",
    "if os.path.isfile(\"C:/Users/Thiago/Downloads/cpc_decomposto_2009.xls\"):\n",
    "    continue\n",
    "    \n",
    "# CPC 2019\n",
    "webbrowser.open(\"http://download.inep.gov.br/educacao_superior/igc_cpc/2018/portal_CPC_edicao2018.xlsx\")    \n",
    "while not os.path.exists(\"C:/Users/Thiago/Downloads/portal_CPC_edicao2018.xlsx\"):\n",
    "    time.sleep(1)            \n",
    "if os.path.isfile(\"C:/Users/Thiago/Downloads/portal_CPC_edicao2018.xlsx\"):\n",
    "    continue\n",
    "    "
   ]
  },
  {
   "cell_type": "markdown",
   "metadata": {},
   "source": [
    "## General Course Index (IGC)"
   ]
  },
  {
   "cell_type": "markdown",
   "metadata": {},
   "source": [
    "The IGC provides a quality index for higher education institutions based on the average CPC of the last three years, the distribution of students between undergrad and graduate levels, and the average evaluation of graduate courses.\n",
    "\n",
    "Further information for the IGC can be found <a href=\"http://inep.gov.br/web/guest/educacao-superior/indicadores-de-qualidade/indice-geral-de-cursos-igc-\">here</a>  (in Portuguese)\n",
    "\n",
    "Because IGC file names differ a lot, I wrote the laziest code possible to download all files."
   ]
  },
  {
   "cell_type": "code",
   "execution_count": null,
   "metadata": {},
   "outputs": [],
   "source": [
    "webbrowser.open(\"http://download.inep.gov.br/download/areaigc/Downloads/igc_2009.xls\")\n",
    "webbrowser.open(\"http://download.inep.gov.br/educacao_superior/enade/igc/tabela_igc_2010_16_10_2012.xls\" )\n",
    "webbrowser.open(\"http://download.inep.gov.br/educacao_superior/enade/igc/tabela_igc_2011_15_01_2013.xls\")\n",
    "webbrowser.open(\"http://download.inep.gov.br/educacao_superior/enade/igc/tabela_igc_2012_30012014.xls\" )\n",
    "webbrowser.open(\"http://download.inep.gov.br/educacao_superior/enade/igc/2013/igc_2013_09022015.xlsx\")\n",
    "webbrowser.open(\"http://download.inep.gov.br/educacao_superior/enade/igc/2014/igc_2014.xlsx\")\n",
    "webbrowser.open(\"http://download.inep.gov.br/educacao_superior/indicadores/legislacao/2017/igc_2015_portal_04_12_2017.xlsx\")\n",
    "webbrowser.open(\"http://download.inep.gov.br/educacao_superior/igc_cpc/2016/resultado_igc_2016_11042018.xlsx\")\n",
    "webbrowser.open(\"http://download.inep.gov.br/educacao_superior/igc_cpc/2018/resultado_igc_2017.xlsx\")\n",
    "webbrowser.open(\"http://download.inep.gov.br/educacao_superior/igc_cpc/2018/portal_IGC_edicao2018.xlsx\")"
   ]
  },
  {
   "cell_type": "markdown",
   "metadata": {},
   "source": [
    "## Data Organization"
   ]
  },
  {
   "cell_type": "markdown",
   "metadata": {},
   "source": [
    "A manual work had to be employed in order to organize and padronize files names. There are an huge variety in zip files folders paths, file names and formats across years.\n",
    "\n",
    "In this manual process of data organization, the following file names were choosen:\n",
    "\n",
    "* For HEC data:\n",
    "student level files: alunos_'year';\n",
    "course level files: cursos_'year';\n",
    "university level files: ies_'year'\n",
    "\n",
    "* For IGC data: igc_'year'\n",
    "\n",
    "* For CPC data cpc_'year'\n",
    "\n",
    "All files are placed in 'data/csv_bases'\n",
    "\n",
    "The code bellow automatize the first-mile of this process for the HEC files. Namely: i) create a data/csv_bases folder in the project folder; ii) standardize HEC file names; iii) transfer HEC files to data/csv_bases in the project folder; iv) extract files from .zip"
   ]
  },
  {
   "cell_type": "code",
   "execution_count": null,
   "metadata": {},
   "outputs": [],
   "source": [
    "# Create new directory to keep the Project files\n",
    "\n",
    "# Important: Run only once\n",
    "\n",
    "path = 'C:/Users/Thiago/Documents/DataScience'\n",
    "\n",
    "os.chdir(path)\n",
    "\n",
    "os.mkdir(\"Projeto_A\")\n",
    "os.mkdir(\"Projeto_A/data\")\n",
    "os.mkdir(\"Projeto_A/data/csv_bases\")"
   ]
  },
  {
   "cell_type": "code",
   "execution_count": null,
   "metadata": {},
   "outputs": [],
   "source": [
    "# Rename files to keep same name pattern\n",
    "\n",
    "downloads_path = \"C:/Users/Thiago/Downloads\"\n",
    "\n",
    "os.chdir(downloads_path)\n",
    "\n",
    "for y in range(2009,2016):\n",
    "    os.rename(\"microdados_censo_superior_\" + str(y) + \".zip\",\"microdados_educacao_superior_\" + str(y) + \".zip\")\n",
    "\n",
    "# Copy files to the project directory\n",
    "\n",
    "files = []\n",
    "\n",
    "for y in range(1995,2019):    \n",
    "    files.append(\"microdados_educacao_superior_\" + str(y) + \".zip\")\n",
    "\n",
    "for f in files:\n",
    "    shutil.copy(f, path + 'Projeto_A/data/csv_bases')\n",
    "    \n",
    "# Delete files from Downloads folder\n",
    "\n",
    "for y in range(1995,2019):\n",
    "    os.remove(\"microdados_educacao_superior_\" + str(y) + \".zip\")\n",
    "\n",
    "\n",
    "# Extract zip files\n",
    "\n",
    "for y in range(1995,2019):\n",
    "    with zipfile.ZipFile(path + '/Projeto_A/data/csv_bases/microdados_educacao_superior_' + str(y) +'.zip', 'r') as zip_ref:\n",
    "        zip_ref.extractall(path + '/Projeto_A/data/csv_bases')\n"
   ]
  }
 ],
 "metadata": {
  "kernelspec": {
   "display_name": "Python 3",
   "language": "python",
   "name": "python3"
  },
  "language_info": {
   "codemirror_mode": {
    "name": "ipython",
    "version": 3
   },
   "file_extension": ".py",
   "mimetype": "text/x-python",
   "name": "python",
   "nbconvert_exporter": "python",
   "pygments_lexer": "ipython3",
   "version": "3.8.3"
  }
 },
 "nbformat": 4,
 "nbformat_minor": 4
}

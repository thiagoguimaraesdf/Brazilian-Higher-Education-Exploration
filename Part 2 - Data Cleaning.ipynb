{
 "cells": [
  {
   "cell_type": "markdown",
   "metadata": {},
   "source": [
    "# Analysis of Brazilian Higher Education Data\n",
    "### (Part 2 - Data Cleaning)"
   ]
  },
  {
   "cell_type": "markdown",
   "metadata": {},
   "source": [
    "<b>Date:</b> 01/09/2020\n",
    "\n",
    "<b>Author:</b> Cardoso, Thiago (thiago.guimaraesdf10@gmail.com)\n",
    "\n",
    "<b>Project Description:</b> This study seeks to organize and develop a basic analysis of higher education data available for Brazilians public and private institutions. This is my first data science/exploration project using Python, therefore the analysis and codes showcased are far from being a repository of best practice. Any suggestions to improve this project are appreciated.\n",
    "\n",
    "For better organization and comprehension, this study is divided into 3 parts:\n",
    "\n",
    "- <b>Part 1 - Data Extraction</b>: Description of datasets used in the project, its sources and the path to download it. This notebook will be updated if future analysis demands new datasets.\n",
    "- <b>Part 2 - Data Cleaning</b>: Code used to clean data and standardize column names. The main goal is to have comparable panel data, with annual information for courses, students, and institutions in the last decade.\n",
    "- <b>Part 3 - Data Analysis</b>: The analysis is subdivided into 6 sections. The first section analysis the historical panorama of higher education growth in Brazil, especially in the last 10 years.\n",
    "\n",
    "<b>This notebook is related to Part 2</b>\n",
    "\n",
    "<b>Important issues:</b>\n",
    "\n",
    "- English is not my mother language. Sorry for the mistakes;\n",
    "- Many (maybe most) code lines lack consistency, performance and/or efficiency. Did my best to conciliate productivity and code quality. Any suggestions to improve code lines are welcome;\n",
    "- The Analysis and Data Cleaning only scratch the surface of the extremely rich data used in this study.  Any author seeking to further this study fell free to contact me. I can also help with any translation issue and provide information for additional sources of data in Brazil."
   ]
  },
  {
   "cell_type": "markdown",
   "metadata": {},
   "source": [
    "## Library Import"
   ]
  },
  {
   "cell_type": "code",
   "execution_count": 245,
   "metadata": {},
   "outputs": [],
   "source": [
    "import os\n",
    "import shutil\n",
    "import time\n",
    "from os import path\n",
    "\n",
    "import webbrowser\n",
    "import xlsxwriter\n",
    "import zipfile\n",
    "\n",
    "import numpy as np\n",
    "import pandas as pd\n",
    "import matplotlib.pyplot as plt\n",
    "import plotly.express as px\n",
    "import seaborn as sns\n",
    "import folium\n",
    "\n",
    "%matplotlib inline"
   ]
  },
  {
   "cell_type": "code",
   "execution_count": 246,
   "metadata": {},
   "outputs": [],
   "source": [
    "# Defining directory \n",
    "\n",
    "define_dir = \"C:/Users/Thiago/Documents/DataScience/Projeto_A\"\n",
    "\n",
    "os.chdir(define_dir)"
   ]
  },
  {
   "cell_type": "markdown",
   "metadata": {},
   "source": [
    "## 1. Brazilian Higher Education Census - 2009 to 2018"
   ]
  },
  {
   "cell_type": "markdown",
   "metadata": {},
   "source": [
    "This data cleaning is broken into 2 steps. First, we work in courses and institutions datasets. These datasets are saved in a panel with data from 2009 to 2018. Second, we work with students' datasets. Because of its size, each dataset are saved in separate files\n"
   ]
  },
  {
   "cell_type": "code",
   "execution_count": 247,
   "metadata": {},
   "outputs": [],
   "source": [
    "# Read courses and instituions annual dataframes\n",
    "\n",
    "for y in range(2009,2019):\n",
    "    \n",
    "    globals()[\"cursos_\" + str(y)] = pd.read_csv(\"data/csv_bases/CENSO_SUPERIOR/DM_CURSO_\" + str(y) + \".csv\", sep ='|', encoding='latin-1')\n",
    "    globals()[\"ies_\" + str(y)] = pd.read_csv(\"data/csv_bases/CENSO_SUPERIOR/DM_IES_\" + str(y) + \".csv\", sep ='|', encoding='latin-1')"
   ]
  },
  {
   "cell_type": "markdown",
   "metadata": {},
   "source": [
    "### 1.1 Courses dataframes"
   ]
  },
  {
   "cell_type": "markdown",
   "metadata": {},
   "source": [
    "<b>Standardization of courses columns across years</b>"
   ]
  },
  {
   "cell_type": "code",
   "execution_count": 248,
   "metadata": {},
   "outputs": [],
   "source": [
    "    \n",
    "# 2009\n",
    "\n",
    "cursos_2009[\"QT_VAGAS\"] = cursos_2009.fillna(0)[\"QT_VAGAS_INTEGRAL\"] + cursos_2009.fillna(0)[\"QT_VAGAS_MATUTINO\"] + cursos_2009.fillna(0)[\"QT_VAGAS_NOTURNO\"] + cursos_2009.fillna(0)[\"QT_VAGAS_VESPERTINO\"]  \n",
    "\n",
    "cursos_2009[\"NU_ANO\"] = 2009\n",
    "\n",
    "cursos_2009 = cursos_2009[[\"NU_ANO\",\"CO_IES\",\"CO_CURSO\",\"CO_CATEGORIA_ADMINISTRATIVA\",\"CO_OCDE_AREA_GERAL\",\"NO_AREA_GERAL\",\n",
    "                          \"CO_OCDE_AREA_DETALHADA\",\"CO_GRAU_ACADEMICO\",\"CO_MODALIDADE_ENSINO\",\"CO_MUNICIPIO_CURSO\",\n",
    "                          \"QT_INSCRITOS_ANO\",\"QT_VAGAS\",\"QT_MATRICULA_CURSO\",\"QT_CONCLUINTE_CURSO\",\"QT_INGRESSO_CURSO\"]]\n",
    "\n",
    "\n",
    "# 2010\n",
    "\n",
    "cursos_2010[\"QT_VAGAS\"] = cursos_2010.fillna(0)[\"QT_VAGAS_ANUAL_EAD\"] + cursos_2010.fillna(0)[\"QT_VAGAS_INTEGRAL_PRES\"] + cursos_2010.fillna(0)[\"QT_VAGAS_MATUTINO_PRES\"] + cursos_2010.fillna(0)[\"QT_VAGAS_NOTURNO_PRES\"] + cursos_2010.fillna(0)[\"QT_VAGAS_VESPERTINO_PRES\"]\n",
    "\n",
    "cursos_2010[\"QT_INSCRITOS_ANO\"] = cursos_2010.fillna(0)[\"QT_INSCRITOS_ANO_EAD\"] + cursos_2010.fillna(0)[\"QT_INSCRITOS_MATUTINO_PRES\"] + cursos_2010.fillna(0)[\"QT_INSCRITOS_VESPERTINO_PRES\"] + cursos_2010.fillna(0)[\"QT_INSCRITOS_NOTURNO_PRES\"] + cursos_2010.fillna(0)[\"QT_INSCRITOS_INTEGRAL_PRES\"]\n",
    "\n",
    "cursos_2010[\"NU_ANO\"] = 2010\n",
    "\n",
    "cursos_2010 = cursos_2010[[\"NU_ANO\",\"CO_IES\",\"CO_CURSO\",\"CO_CATEGORIA_ADMINISTRATIVA\",\"CO_OCDE_AREA_GERAL\",\n",
    "                          \"CO_OCDE_AREA_DETALHADA\",\"CO_GRAU_ACADEMICO\",\"CO_MODALIDADE_ENSINO\",\"CO_MUNICIPIO_CURSO\",\n",
    "                          \"QT_INSCRITOS_ANO\",\"QT_VAGAS\",\"QT_MATRICULA_CURSO\",\"QT_CONCLUINTE_CURSO\",\"QT_INGRESSO_CURSO\"]]\n",
    "\n",
    "\n",
    "# 2011\n",
    "\n",
    "cursos_2011[\"QT_VAGAS\"] = cursos_2011.fillna(0)[\"QT_VAGAS_ANUAL_EAD\"] + cursos_2011.fillna(0)[\"QT_VAGAS_INTEGRAL_PRES\"] + cursos_2011.fillna(0)[\"QT_VAGAS_MATUTINO_PRES\"] + cursos_2011.fillna(0)[\"QT_VAGAS_NOTURNO_PRES\"] + cursos_2011.fillna(0)[\"QT_VAGAS_VESPERTINO_PRES\"]\n",
    "\n",
    "cursos_2011[\"QT_INSCRITOS_ANO\"] = cursos_2011.fillna(0)[\"QT_INSCRITOS_ANO_EAD\"] + cursos_2011.fillna(0)[\"QT_INSCRITOS_MATUTINO_PRES\"] + cursos_2011.fillna(0)[\"QT_INSCRITOS_VESPERTINO_PRES\"] + cursos_2011.fillna(0)[\"QT_INSCRITOS_NOTURNO_PRES\"] + cursos_2011.fillna(0)[\"QT_INSCRITOS_INTEGRAL_PRES\"]\n",
    "\n",
    "cursos_2011[\"NU_ANO\"] = 2011\n",
    "\n",
    "cursos_2011 = cursos_2011[[\"NU_ANO\",\"CO_IES\",\"CO_CURSO\",\"CO_CATEGORIA_ADMINISTRATIVA\",\"CO_OCDE_AREA_GERAL\",\n",
    "                          \"CO_OCDE_AREA_DETALHADA\",\"CO_GRAU_ACADEMICO\",\"CO_MODALIDADE_ENSINO\",\"CO_MUNICIPIO_CURSO\",\n",
    "                          \"QT_INSCRITOS_ANO\",\"QT_VAGAS\",\"QT_MATRICULA_CURSO\",\"QT_CONCLUINTE_CURSO\",\"QT_INGRESSO_CURSO\"]]\n",
    "\n",
    "# 2012\n",
    "\n",
    "cursos_2012[\"QT_VAGAS\"] = cursos_2012.fillna(0)[\"QT_VAGAS_ANUAL_EAD\"] + cursos_2012.fillna(0)[\"QT_VAGAS_INTEGRAL_PRES\"] + cursos_2012.fillna(0)[\"QT_VAGAS_MATUTINO_PRES\"] + cursos_2012.fillna(0)[\"QT_VAGAS_NOTURNO_PRES\"] + cursos_2012.fillna(0)[\"QT_VAGAS_VESPERTINO_PRES\"]\n",
    "\n",
    "cursos_2012[\"QT_INSCRITOS_ANO\"] = cursos_2012.fillna(0)[\"QT_INSCRITOS_ANO_EAD\"] + cursos_2012.fillna(0)[\"QT_INSCRITOS_MATUTINO_PRES\"] + cursos_2012.fillna(0)[\"QT_INSCRITOS_VESPERTINO_PRES\"] + cursos_2012.fillna(0)[\"QT_INSCRITOS_NOTURNO_PRES\"] + cursos_2012.fillna(0)[\"QT_INSCRITOS_INTEGRAL_PRES\"]\n",
    "\n",
    "cursos_2012[\"NU_ANO\"] = 2012\n",
    "\n",
    "cursos_2012 = cursos_2012[[\"NU_ANO\",\"CO_IES\",\"CO_CURSO\",\"CO_CATEGORIA_ADMINISTRATIVA\",\"CO_OCDE_AREA_GERAL\",\n",
    "                          \"CO_OCDE_AREA_DETALHADA\",\"CO_GRAU_ACADEMICO\",\"CO_MODALIDADE_ENSINO\",\"CO_MUNICIPIO_CURSO\",\n",
    "                          \"QT_INSCRITOS_ANO\",\"QT_VAGAS\",\"QT_MATRICULA_CURSO\",\"QT_CONCLUINTE_CURSO\",\"QT_INGRESSO_CURSO\"]]\n",
    "\n",
    "# 2013\n",
    "\n",
    "cursos_2013[\"QT_VAGAS\"] = cursos_2013.fillna(0)[\"QT_VAGAS_PRINCIPAL_EAD\"] + cursos_2013.fillna(0)[\"QT_VAGAS_PRINCIPAL_INTEGRAL\"] + cursos_2013.fillna(0)[\"QT_VAGAS_PRINCIPAL_MATUTINO\"] + cursos_2013.fillna(0)[\"QT_VAGAS_PRINCIPAL_NOTURNO\"] + cursos_2013.fillna(0)[\"QT_VAGAS_PRINCIPAL_VESPERTINO\"]\n",
    "\n",
    "cursos_2013[\"QT_INSCRITOS_ANO\"] = cursos_2013.fillna(0)[\"QT_INSCRITOS_PRINCIPAL_EAD\"] + cursos_2013.fillna(0)[\"QT_INSCRITOS_PRINCIPAL_MATU\"] + cursos_2013.fillna(0)[\"QT_INSCRITOS_PRINCIPAL_VESP\"] + cursos_2013.fillna(0)[\"QT_INSCRITOS_PRINCIPAL_NOTURNO\"] + cursos_2013.fillna(0)[\"QT_INSCRITOS_PRINCIPAL_INTE\"]\n",
    "\n",
    "cursos_2013[\"NU_ANO\"] = 2013\n",
    "\n",
    "cursos_2013 = cursos_2013[[\"NU_ANO\",\"CO_IES\",\"CO_CURSO\",\"CO_CATEGORIA_ADMINISTRATIVA\",\"CO_OCDE_AREA_GERAL\",\n",
    "                          \"CO_OCDE_AREA_DETALHADA\",\"CO_GRAU_ACADEMICO\",\"CO_MODALIDADE_ENSINO\",\"CO_MUNICIPIO_CURSO\",\n",
    "                          \"QT_INSCRITOS_ANO\",\"QT_VAGAS\",\"QT_MATRICULA_CURSO\",\"QT_CONCLUINTE_CURSO\",\"QT_INGRESSO_CURSO\"]]\n",
    "\n",
    "# 2014\n",
    "\n",
    "cursos_2014[\"QT_VAGAS\"] = cursos_2014.fillna(0)[\"QT_VAGAS_NOVAS_EAD\"] + cursos_2014.fillna(0)[\"QT_VAGAS_NOVAS_INTEGRAL\"] + cursos_2014.fillna(0)[\"QT_VAGAS_NOVAS_MATUTINO\"] + cursos_2014.fillna(0)[\"QT_VAGAS_NOVAS_VESPERTINO\"] + cursos_2014.fillna(0)[\"QT_VAGAS_NOVAS_NOTURNO\"]\n",
    "\n",
    "cursos_2014[\"QT_INSCRITOS_ANO\"] = cursos_2014.fillna(0)[\"QT_INSC_VAGAS_NOVAS_INT\"] + cursos_2014.fillna(0)[\"QT_INSC_VAGAS_NOVAS_MAT\"] + cursos_2014.fillna(0)[\"QT_INSC_VAGAS_NOVAS_VESP\"] + cursos_2014.fillna(0)[\"QT_INSC_VAGAS_NOVAS_NOT\"] + cursos_2014.fillna(0)[\"QT_INSC_VAGAS_NOVAS_EAD\"]\n",
    "\n",
    "cursos_2014[\"NU_ANO\"] = 2014\n",
    "\n",
    "cursos_2014 = cursos_2014[[\"NU_ANO\",\"CO_IES\",\"CO_CURSO\",\"CO_CATEGORIA_ADMINISTRATIVA\",\"CO_OCDE_AREA_GERAL\",\n",
    "                          \"CO_OCDE_AREA_DETALHADA\",\"CO_GRAU_ACADEMICO\",\"CO_MODALIDADE_ENSINO\",\"CO_MUNICIPIO_CURSO\",\n",
    "                          \"QT_INSCRITOS_ANO\",\"QT_VAGAS\",\"QT_MATRICULA_CURSO\",\"QT_CONCLUINTE_CURSO\",\"QT_INGRESSO_CURSO\"]]\n",
    "\n",
    "\n",
    "# 2015\n",
    "\n",
    "cursos_2015[\"QT_VAGAS\"] = cursos_2015.fillna(0)[\"QT_VAGAS_NOVAS_EAD\"] + cursos_2015.fillna(0)[\"QT_VAGAS_NOVAS_INTEGRAL\"] + cursos_2015.fillna(0)[\"QT_VAGAS_NOVAS_MATUTINO\"] + cursos_2015.fillna(0)[\"QT_VAGAS_NOVAS_VESPERTINO\"] + cursos_2015.fillna(0)[\"QT_VAGAS_NOVAS_NOTURNO\"]\n",
    "\n",
    "cursos_2015[\"QT_INSCRITOS_ANO\"] = cursos_2015.fillna(0)[\"QT_INSC_VAGAS_NOVAS_INT\"] + cursos_2015.fillna(0)[\"QT_INSC_VAGAS_NOVAS_MAT\"] + cursos_2015.fillna(0)[\"QT_INSC_VAGAS_NOVAS_VESP\"] + cursos_2015.fillna(0)[\"QT_INSC_VAGAS_NOVAS_NOT\"] + cursos_2015.fillna(0)[\"QT_INSC_VAGAS_NOVAS_EAD\"]\n",
    "\n",
    "cursos_2015[\"NU_ANO\"] = 2015\n",
    "\n",
    "cursos_2015 = cursos_2015[[\"NU_ANO\",\"CO_IES\",\"CO_CURSO\",\"CO_CATEGORIA_ADMINISTRATIVA\",\"CO_OCDE_AREA_GERAL\",\n",
    "                          \"CO_OCDE_AREA_DETALHADA\",\"CO_GRAU_ACADEMICO\",\"CO_MODALIDADE_ENSINO\",\"CO_MUNICIPIO_CURSO\",\n",
    "                          \"QT_INSCRITOS_ANO\",\"QT_VAGAS\",\"QT_MATRICULA_CURSO\",\"QT_CONCLUINTE_CURSO\",\"QT_INGRESSO_CURSO\"]]\n",
    "\n",
    "# 2016\n",
    "\n",
    "cursos_2016[\"QT_VAGAS\"] = cursos_2016.fillna(0)[\"QT_VAGAS_NOVAS_EAD\"] + cursos_2016.fillna(0)[\"QT_VAGAS_NOVAS_INTEGRAL\"] + cursos_2016.fillna(0)[\"QT_VAGAS_NOVAS_MATUTINO\"] + cursos_2016.fillna(0)[\"QT_VAGAS_NOVAS_VESPERTINO\"] + cursos_2016.fillna(0)[\"QT_VAGAS_NOVAS_NOTURNO\"]\n",
    "\n",
    "cursos_2016[\"QT_INSCRITOS_ANO\"] = cursos_2016.fillna(0)[\"QT_INSC_VAGAS_NOVAS_INT\"] + cursos_2016.fillna(0)[\"QT_INSC_VAGAS_NOVAS_MAT\"] + cursos_2016.fillna(0)[\"QT_INSC_VAGAS_NOVAS_VESP\"] + cursos_2016.fillna(0)[\"QT_INSC_VAGAS_NOVAS_NOT\"] + cursos_2016.fillna(0)[\"QT_INSC_VAGAS_NOVAS_EAD\"]\n",
    "\n",
    "cursos_2016[\"NU_ANO\"] = 2016\n",
    "\n",
    "cursos_2016 = cursos_2016[[\"NU_ANO\",\"CO_IES\",\"CO_CURSO\",\"CO_CATEGORIA_ADMINISTRATIVA\",\"CO_OCDE_AREA_GERAL\",\n",
    "                          \"CO_OCDE_AREA_DETALHADA\",\"CO_GRAU_ACADEMICO\",\"CO_MODALIDADE_ENSINO\",\"CO_MUNICIPIO_CURSO\",\n",
    "                          \"QT_INSCRITOS_ANO\",\"QT_VAGAS\",\"QT_MATRICULA_CURSO\",\"QT_CONCLUINTE_CURSO\",\"QT_INGRESSO_CURSO\"]]\n",
    "\n",
    "\n",
    "\n",
    "# 2017\n",
    "\n",
    "cursos_2017 = cursos_2017.rename(columns={\"TP_CATEGORIA_ADMINISTRATIVA\": \"CO_CATEGORIA_ADMINISTRATIVA\", \n",
    "                            \"TP_GRAU_ACADEMICO\" : \"CO_GRAU_ACADEMICO\", \n",
    "                            \"TP_MODALIDADE_ENSINO\" : \"CO_MODALIDADE_ENSINO\",\n",
    "                            \"CO_MUNICIPIO\": \"CO_MUNICIPIO_CURSO\",\n",
    "                            \"QT_MATRICULA_TOTAL\" : \"QT_MATRICULA_CURSO\",\n",
    "                            \"QT_CONCLUINTE_TOTAL\" : \"QT_CONCLUINTE_CURSO\",\n",
    "                            \"QT_INGRESSO_TOTAL\" : \"QT_INGRESSO_CURSO\",\n",
    "                            \"NU_ANO_CENSO\" : \"NU_ANO\"})\n",
    "\n",
    "cursos_2017[\"QT_VAGAS\"] = cursos_2017.fillna(0)[\"QT_VAGAS_NOVAS_INTEGRAL\"] + cursos_2017.fillna(0)[\"QT_VAGAS_NOVAS_MATUTINO\"] + cursos_2017.fillna(0)[\"QT_VAGAS_NOVAS_VESPERTINO\"] + cursos_2017.fillna(0)[\"QT_VAGAS_NOVAS_NOTURNO\"] + cursos_2017.fillna(0)[\"QT_VAGAS_NOVAS_EAD\"]\n",
    "\n",
    "cursos_2017[\"QT_INSCRITOS_ANO\"] = cursos_2017.fillna(0)[\"QT_INSC_VAGA_NOVA_INTEGRAL\"] + cursos_2017.fillna(0)[\"QT_INSC_VAGA_NOVA_MATUTINO\"] + cursos_2017.fillna(0)[\"QT_INSC_VAGA_NOVA_VESPERTINO\"] + cursos_2017.fillna(0)[\"QT_INSC_VAGA_NOVA_NOTURNO\"] + cursos_2017.fillna(0)[\"QT_INSC_VAGA_NOVA_EAD\"]\n",
    "\n",
    "cursos_2017 = cursos_2017[[\"NU_ANO\",\"CO_IES\",\"CO_CURSO\",\"CO_CATEGORIA_ADMINISTRATIVA\",\"CO_OCDE_AREA_GERAL\",\n",
    "                          \"CO_OCDE_AREA_DETALHADA\",\"CO_GRAU_ACADEMICO\",\"CO_MODALIDADE_ENSINO\",\"CO_MUNICIPIO_CURSO\",\n",
    "                          \"QT_INSCRITOS_ANO\",\"QT_VAGAS\",\"QT_MATRICULA_CURSO\",\"QT_CONCLUINTE_CURSO\",\"QT_INGRESSO_CURSO\"]]\n",
    "\n",
    "# 2018\n",
    "\n",
    "cursos_2018 = cursos_2018.rename(columns={\"TP_CATEGORIA_ADMINISTRATIVA\": \"CO_CATEGORIA_ADMINISTRATIVA\", \n",
    "                            \"TP_GRAU_ACADEMICO\" : \"CO_GRAU_ACADEMICO\", \n",
    "                            \"TP_MODALIDADE_ENSINO\" : \"CO_MODALIDADE_ENSINO\",\n",
    "                            \"CO_MUNICIPIO\": \"CO_MUNICIPIO_CURSO\",\n",
    "                            \"QT_MATRICULA_TOTAL\" : \"QT_MATRICULA_CURSO\",\n",
    "                            \"QT_CONCLUINTE_TOTAL\" : \"QT_CONCLUINTE_CURSO\",\n",
    "                            \"QT_INGRESSO_TOTAL\" : \"QT_INGRESSO_CURSO\",\n",
    "                            \"NU_ANO_CENSO\" : \"NU_ANO\"})\n",
    "\n",
    "cursos_2018[\"QT_VAGAS\"] = cursos_2018.fillna(0)[\"QT_VAGAS_NOVAS_INTEGRAL\"] + cursos_2018.fillna(0)[\"QT_VAGAS_NOVAS_MATUTINO\"] + cursos_2018.fillna(0)[\"QT_VAGAS_NOVAS_VESPERTINO\"] + cursos_2018.fillna(0)[\"QT_VAGAS_NOVAS_NOTURNO\"] + cursos_2018.fillna(0)[\"QT_VAGAS_NOVAS_EAD\"]\n",
    "\n",
    "cursos_2018[\"QT_INSCRITOS_ANO\"] = cursos_2018.fillna(0)[\"QT_INSC_VAGA_NOVA_INTEGRAL\"] + cursos_2018.fillna(0)[\"QT_INSC_VAGA_NOVA_MATUTINO\"] + cursos_2018.fillna(0)[\"QT_INSC_VAGA_NOVA_VESPERTINO\"] + cursos_2018.fillna(0)[\"QT_INSC_VAGA_NOVA_NOTURNO\"] + cursos_2018.fillna(0)[\"QT_INSC_VAGA_NOVA_EAD\"]\n",
    "\n",
    "cursos_2018 = cursos_2018[[\"NU_ANO\",\"CO_IES\",\"CO_CURSO\",\"CO_CATEGORIA_ADMINISTRATIVA\",\"CO_GRAU_ACADEMICO\",\"CO_MODALIDADE_ENSINO\",\"CO_MUNICIPIO_CURSO\",\n",
    "                          \"QT_INSCRITOS_ANO\",\"QT_VAGAS\",\"QT_MATRICULA_CURSO\",\"QT_CONCLUINTE_CURSO\",\"QT_INGRESSO_CURSO\",'DT_INICIO_FUNCIONAMENTO']]"
   ]
  },
  {
   "cell_type": "code",
   "execution_count": 249,
   "metadata": {},
   "outputs": [],
   "source": [
    "# Appeding all courses dataframes in one and save in a csv file\n",
    "\n",
    "cursos = cursos_2009.append([cursos_2010,cursos_2011,cursos_2012,cursos_2013,cursos_2014,cursos_2015,cursos_2016,cursos_2017,cursos_2018])"
   ]
  },
  {
   "cell_type": "markdown",
   "metadata": {},
   "source": [
    "cursos.info()"
   ]
  },
  {
   "cell_type": "markdown",
   "metadata": {},
   "source": [
    "<b>1.1.1. Exploring CO_CATEGORIA_ADMINITRATIVA (administrative category)</b>\n",
    "\n",
    " Values dictionary:\n",
    "\n",
    "- Federal Institution : CO_CATEGORIA_ADMINISTRATIVA = 1\n",
    "- State Institution: CO_CATEGORIA_ADMINISTRATIVA = 2\n",
    "- Municipal Institution: CO_CATEGORIA_ADMINISTRATIVA = 3\n",
    "- Private Institution: DM_IES.CO_CATEGORIA_ADMINISTRATIVA IN (4,5,6)\n",
    "- Public non-free Institituon: DM_IES.CO_CATEGORIA_ADMINISTRATIVA = 7"
   ]
  },
  {
   "cell_type": "code",
   "execution_count": 250,
   "metadata": {},
   "outputs": [
    {
     "name": "stdout",
     "output_type": "stream",
     "text": [
      "0\n"
     ]
    },
    {
     "data": {
      "text/plain": [
       "<function matplotlib.pyplot.show(*args, **kw)>"
      ]
     },
     "execution_count": 250,
     "metadata": {},
     "output_type": "execute_result"
    },
    {
     "data": {
      "image/png": "[encoded data removed]",
      "text/plain": [
       "<Figure size 864x576 with 2 Axes>"
      ]
     },
     "metadata": {
      "needs_background": "light"
     },
     "output_type": "display_data"
    }
   ],
   "source": [
    "\n",
    "print(cursos['CO_CATEGORIA_ADMINISTRATIVA'].isna().sum())\n",
    "\n",
    "# There is 0 'nan' values in CO_CATEGORIA_ADMINITRATIVA\n",
    "\n",
    "cat_adm = cursos.groupby(['NU_ANO','CO_CATEGORIA_ADMINISTRATIVA'])['CO_CURSO'].nunique().to_frame()\n",
    "cat_adm.reset_index(level=[0,1], inplace = True)\n",
    "\n",
    "# Heatplot bellow shows that 6 and 7 categories were only used in some years.\n",
    "\n",
    "fig = plt.figure(figsize = (12,8))\n",
    "\n",
    "sns.heatmap(cat_adm.pivot('NU_ANO','CO_CATEGORIA_ADMINISTRATIVA','CO_CURSO'), \n",
    "                      cbar=True\n",
    "                     )\n",
    "\n",
    "fig.tight_layout()\n",
    "plt.show"
   ]
  },
  {
   "cell_type": "code",
   "execution_count": 251,
   "metadata": {},
   "outputs": [
    {
     "data": {
      "image/png": "[encoded data removed]",
      "text/plain": [
       "<Figure size 864x576 with 1 Axes>"
      ]
     },
     "metadata": {
      "needs_background": "light"
     },
     "output_type": "display_data"
    }
   ],
   "source": [
    "# Area plot bellow shows:\n",
    "\n",
    "# i) Sharp increase in the number of private courses (values 4:7)\n",
    "# ii) probably some change in courses category classification in 2010 (from 4 to 5)\n",
    "\n",
    "fig = cat_adm.pivot('NU_ANO','CO_CATEGORIA_ADMINISTRATIVA','CO_CURSO').plot.area(figsize=(12,8), \n",
    "                                                                                xticks=range(2009,2019,1),\n",
    "                                                                                xlim=(2009,2018),\n",
    "                                                                                )\n",
    "\n",
    "fig.legend(loc='upper left')\n",
    "\n",
    "plt.show()"
   ]
  },
  {
   "cell_type": "code",
   "execution_count": 252,
   "metadata": {},
   "outputs": [],
   "source": [
    "# Gen new column to differentiate private and public instititutions\n",
    "\n",
    "cursos['NM_CATEGORIA_ADMINISTRATIVA'] = 'PRIVADA'\n",
    "\n",
    "cursos.loc[cursos['CO_CATEGORIA_ADMINISTRATIVA'] < 4, ['NM_CATEGORIA_ADMINISTRATIVA']] = 'PUBLICA'"
   ]
  },
  {
   "cell_type": "markdown",
   "metadata": {},
   "source": [
    "<b>1.1.2. Exploring columns with courses field code and name </b>\n",
    "\n",
    "- CO_OCDE_AREA_GERAL           \n",
    "- NO_AREA_GERAL  \n",
    "- CO_OCDE_AREA_DETALHADA       "
   ]
  },
  {
   "cell_type": "code",
   "execution_count": 253,
   "metadata": {},
   "outputs": [
    {
     "name": "stdout",
     "output_type": "stream",
     "text": [
      "39335\n",
      "39433\n",
      "   NU_ANO  CO_OCDE_AREA_GERAL\n",
      "0    2009                   8\n",
      "1    2010                   9\n",
      "2    2011                   8\n",
      "3    2012                   8\n",
      "4    2013                   8\n",
      "5    2014                   8\n",
      "6    2015                   8\n",
      "7    2016                   8\n",
      "8    2017                   8\n",
      "9    2018                   0\n",
      "   NU_ANO  CO_OCDE_AREA_DETALHADA\n",
      "0    2009                      85\n",
      "1    2010                      78\n",
      "2    2011                      79\n",
      "3    2012                      79\n",
      "4    2013                      79\n",
      "5    2014                      78\n",
      "6    2015                      78\n",
      "7    2016                      78\n",
      "8    2017                      77\n",
      "9    2018                       0\n",
      "   NU_ANO  NO_AREA_GERAL\n",
      "0    2009              8\n",
      "1    2010              0\n",
      "2    2011              0\n",
      "3    2012              0\n",
      "4    2013              0\n",
      "5    2014              0\n",
      "6    2015              0\n",
      "7    2016              0\n",
      "8    2017              0\n",
      "9    2018              0\n"
     ]
    }
   ],
   "source": [
    "# number of CO_OCDE_AREA_GERAL and CO_OCDE_AREA_DETALHADA values\n",
    "\n",
    "print(cursos['CO_OCDE_AREA_GERAL'].isna().sum())\n",
    "print(cursos['CO_OCDE_AREA_DETALHADA'].isna().sum())\n",
    "\n",
    "# There area 39335 'nan' values in 'CO_OCDE_AREA_GERAL'\n",
    "\n",
    "# Check how many iunique values there are in CO_OCDE_AREA_GERAL and CO_OCDE_AREA_DETALHADA for each year\n",
    "\n",
    "co_AreaGeral = cursos.groupby(['NU_ANO'])['CO_OCDE_AREA_GERAL'].nunique().to_frame()\n",
    "co_AreaGeral.reset_index(level=[0], inplace = True)\n",
    "print(co_AreaGeral)\n",
    "\n",
    "co_AreaDetalhada = cursos.groupby(['NU_ANO'])['CO_OCDE_AREA_DETALHADA'].nunique().to_frame()\n",
    "co_AreaDetalhada.reset_index(level=[0], inplace = True)\n",
    "print(co_AreaDetalhada)\n",
    "\n",
    "nm_AreaGeral = cursos.groupby(['NU_ANO'])['NO_AREA_GERAL'].nunique().to_frame()\n",
    "nm_AreaGeral.reset_index(level=[0], inplace = True)\n",
    "print(nm_AreaGeral)\n",
    "\n",
    "# Due to the high number of unique values for CO_OCDE_AREA_DETAlHADA, only CO_OCDE_AREA will be used for further analysis"
   ]
  },
  {
   "cell_type": "code",
   "execution_count": 254,
   "metadata": {},
   "outputs": [],
   "source": [
    "nome_areas = cursos_2009[[\"CO_OCDE_AREA_GERAL\",\n",
    "                          \"NO_AREA_GERAL\"]]\n",
    "\n",
    "nome_areas = nome_areas.drop_duplicates(subset=None, keep='first', inplace=False)\n",
    "\n",
    "# Adding names to courses id\n",
    "\n",
    "cursos = pd.merge(cursos.drop(columns=['NO_AREA_GERAL']), nome_areas, on='CO_OCDE_AREA_GERAL', how='left')"
   ]
  },
  {
   "cell_type": "code",
   "execution_count": 255,
   "metadata": {},
   "outputs": [
    {
     "data": {
      "text/html": [
       "<div>\n",
       "<style scoped>\n",
       "    .dataframe tbody tr th:only-of-type {\n",
       "        vertical-align: middle;\n",
       "    }\n",
       "\n",
       "    .dataframe tbody tr th {\n",
       "        vertical-align: top;\n",
       "    }\n",
       "\n",
       "    .dataframe thead th {\n",
       "        text-align: right;\n",
       "    }\n",
       "</style>\n",
       "<table border=\"1\" class=\"dataframe\">\n",
       "  <thead>\n",
       "    <tr style=\"text-align: right;\">\n",
       "      <th></th>\n",
       "      <th>NU_ANO</th>\n",
       "      <th>CO_IES</th>\n",
       "      <th>CO_CURSO</th>\n",
       "      <th>CO_CATEGORIA_ADMINISTRATIVA</th>\n",
       "      <th>CO_OCDE_AREA_GERAL</th>\n",
       "      <th>CO_OCDE_AREA_DETALHADA</th>\n",
       "      <th>CO_GRAU_ACADEMICO</th>\n",
       "      <th>CO_MODALIDADE_ENSINO</th>\n",
       "      <th>CO_MUNICIPIO_CURSO</th>\n",
       "      <th>QT_INSCRITOS_ANO</th>\n",
       "      <th>QT_VAGAS</th>\n",
       "      <th>QT_MATRICULA_CURSO</th>\n",
       "      <th>QT_CONCLUINTE_CURSO</th>\n",
       "      <th>QT_INGRESSO_CURSO</th>\n",
       "      <th>DT_INICIO_FUNCIONAMENTO</th>\n",
       "      <th>NM_CATEGORIA_ADMINISTRATIVA</th>\n",
       "      <th>NO_AREA_GERAL</th>\n",
       "    </tr>\n",
       "  </thead>\n",
       "  <tbody>\n",
       "    <tr>\n",
       "      <th>325863</th>\n",
       "      <td>2018</td>\n",
       "      <td>1</td>\n",
       "      <td>1</td>\n",
       "      <td>1</td>\n",
       "      <td>NaN</td>\n",
       "      <td>NaN</td>\n",
       "      <td>1.0</td>\n",
       "      <td>1</td>\n",
       "      <td>5103403.0</td>\n",
       "      <td>3141.0</td>\n",
       "      <td>92.0</td>\n",
       "      <td>445.0</td>\n",
       "      <td>76.0</td>\n",
       "      <td>99.0</td>\n",
       "      <td>05/09/1952</td>\n",
       "      <td>PUBLICA</td>\n",
       "      <td>NaN</td>\n",
       "    </tr>\n",
       "    <tr>\n",
       "      <th>325864</th>\n",
       "      <td>2018</td>\n",
       "      <td>1</td>\n",
       "      <td>2</td>\n",
       "      <td>1</td>\n",
       "      <td>NaN</td>\n",
       "      <td>NaN</td>\n",
       "      <td>1.0</td>\n",
       "      <td>1</td>\n",
       "      <td>5103403.0</td>\n",
       "      <td>919.0</td>\n",
       "      <td>120.0</td>\n",
       "      <td>344.0</td>\n",
       "      <td>38.0</td>\n",
       "      <td>120.0</td>\n",
       "      <td>11/10/1968</td>\n",
       "      <td>PUBLICA</td>\n",
       "      <td>NaN</td>\n",
       "    </tr>\n",
       "    <tr>\n",
       "      <th>325865</th>\n",
       "      <td>2018</td>\n",
       "      <td>1</td>\n",
       "      <td>3</td>\n",
       "      <td>1</td>\n",
       "      <td>NaN</td>\n",
       "      <td>NaN</td>\n",
       "      <td>1.0</td>\n",
       "      <td>1</td>\n",
       "      <td>5103403.0</td>\n",
       "      <td>637.0</td>\n",
       "      <td>55.0</td>\n",
       "      <td>266.0</td>\n",
       "      <td>34.0</td>\n",
       "      <td>53.0</td>\n",
       "      <td>11/10/1968</td>\n",
       "      <td>PUBLICA</td>\n",
       "      <td>NaN</td>\n",
       "    </tr>\n",
       "    <tr>\n",
       "      <th>325866</th>\n",
       "      <td>2018</td>\n",
       "      <td>1</td>\n",
       "      <td>6</td>\n",
       "      <td>1</td>\n",
       "      <td>NaN</td>\n",
       "      <td>NaN</td>\n",
       "      <td>2.0</td>\n",
       "      <td>1</td>\n",
       "      <td>5103403.0</td>\n",
       "      <td>1461.0</td>\n",
       "      <td>100.0</td>\n",
       "      <td>326.0</td>\n",
       "      <td>49.0</td>\n",
       "      <td>98.0</td>\n",
       "      <td>15/09/1970</td>\n",
       "      <td>PUBLICA</td>\n",
       "      <td>NaN</td>\n",
       "    </tr>\n",
       "    <tr>\n",
       "      <th>325867</th>\n",
       "      <td>2018</td>\n",
       "      <td>1</td>\n",
       "      <td>7</td>\n",
       "      <td>1</td>\n",
       "      <td>NaN</td>\n",
       "      <td>NaN</td>\n",
       "      <td>1.0</td>\n",
       "      <td>1</td>\n",
       "      <td>5103403.0</td>\n",
       "      <td>1449.0</td>\n",
       "      <td>83.0</td>\n",
       "      <td>253.0</td>\n",
       "      <td>23.0</td>\n",
       "      <td>81.0</td>\n",
       "      <td>09/03/1970</td>\n",
       "      <td>PUBLICA</td>\n",
       "      <td>NaN</td>\n",
       "    </tr>\n",
       "    <tr>\n",
       "      <th>...</th>\n",
       "      <td>...</td>\n",
       "      <td>...</td>\n",
       "      <td>...</td>\n",
       "      <td>...</td>\n",
       "      <td>...</td>\n",
       "      <td>...</td>\n",
       "      <td>...</td>\n",
       "      <td>...</td>\n",
       "      <td>...</td>\n",
       "      <td>...</td>\n",
       "      <td>...</td>\n",
       "      <td>...</td>\n",
       "      <td>...</td>\n",
       "      <td>...</td>\n",
       "      <td>...</td>\n",
       "      <td>...</td>\n",
       "      <td>...</td>\n",
       "    </tr>\n",
       "    <tr>\n",
       "      <th>364114</th>\n",
       "      <td>2018</td>\n",
       "      <td>23459</td>\n",
       "      <td>5001430</td>\n",
       "      <td>2</td>\n",
       "      <td>NaN</td>\n",
       "      <td>NaN</td>\n",
       "      <td>3.0</td>\n",
       "      <td>1</td>\n",
       "      <td>3500105.0</td>\n",
       "      <td>89.0</td>\n",
       "      <td>35.0</td>\n",
       "      <td>34.0</td>\n",
       "      <td>0.0</td>\n",
       "      <td>36.0</td>\n",
       "      <td>NaN</td>\n",
       "      <td>PUBLICA</td>\n",
       "      <td>NaN</td>\n",
       "    </tr>\n",
       "    <tr>\n",
       "      <th>364115</th>\n",
       "      <td>2018</td>\n",
       "      <td>23700</td>\n",
       "      <td>1458085</td>\n",
       "      <td>2</td>\n",
       "      <td>NaN</td>\n",
       "      <td>NaN</td>\n",
       "      <td>3.0</td>\n",
       "      <td>1</td>\n",
       "      <td>3515707.0</td>\n",
       "      <td>155.0</td>\n",
       "      <td>40.0</td>\n",
       "      <td>38.0</td>\n",
       "      <td>0.0</td>\n",
       "      <td>41.0</td>\n",
       "      <td>01/08/2018</td>\n",
       "      <td>PUBLICA</td>\n",
       "      <td>NaN</td>\n",
       "    </tr>\n",
       "    <tr>\n",
       "      <th>364116</th>\n",
       "      <td>2018</td>\n",
       "      <td>23700</td>\n",
       "      <td>1458087</td>\n",
       "      <td>2</td>\n",
       "      <td>NaN</td>\n",
       "      <td>NaN</td>\n",
       "      <td>3.0</td>\n",
       "      <td>1</td>\n",
       "      <td>3515707.0</td>\n",
       "      <td>163.0</td>\n",
       "      <td>40.0</td>\n",
       "      <td>40.0</td>\n",
       "      <td>0.0</td>\n",
       "      <td>41.0</td>\n",
       "      <td>01/08/2018</td>\n",
       "      <td>PUBLICA</td>\n",
       "      <td>NaN</td>\n",
       "    </tr>\n",
       "    <tr>\n",
       "      <th>364117</th>\n",
       "      <td>2018</td>\n",
       "      <td>23705</td>\n",
       "      <td>1465936</td>\n",
       "      <td>2</td>\n",
       "      <td>NaN</td>\n",
       "      <td>NaN</td>\n",
       "      <td>3.0</td>\n",
       "      <td>1</td>\n",
       "      <td>3516408.0</td>\n",
       "      <td>41.0</td>\n",
       "      <td>41.0</td>\n",
       "      <td>33.0</td>\n",
       "      <td>0.0</td>\n",
       "      <td>41.0</td>\n",
       "      <td>NaN</td>\n",
       "      <td>PUBLICA</td>\n",
       "      <td>NaN</td>\n",
       "    </tr>\n",
       "    <tr>\n",
       "      <th>364118</th>\n",
       "      <td>2018</td>\n",
       "      <td>23705</td>\n",
       "      <td>5001434</td>\n",
       "      <td>2</td>\n",
       "      <td>NaN</td>\n",
       "      <td>NaN</td>\n",
       "      <td>3.0</td>\n",
       "      <td>1</td>\n",
       "      <td>3516408.0</td>\n",
       "      <td>40.0</td>\n",
       "      <td>40.0</td>\n",
       "      <td>32.0</td>\n",
       "      <td>0.0</td>\n",
       "      <td>40.0</td>\n",
       "      <td>NaN</td>\n",
       "      <td>PUBLICA</td>\n",
       "      <td>NaN</td>\n",
       "    </tr>\n",
       "  </tbody>\n",
       "</table>\n",
       "<p>38256 rows × 17 columns</p>\n",
       "</div>"
      ],
      "text/plain": [
       "        NU_ANO  CO_IES  CO_CURSO  CO_CATEGORIA_ADMINISTRATIVA  \\\n",
       "325863    2018       1         1                            1   \n",
       "325864    2018       1         2                            1   \n",
       "325865    2018       1         3                            1   \n",
       "325866    2018       1         6                            1   \n",
       "325867    2018       1         7                            1   \n",
       "...        ...     ...       ...                          ...   \n",
       "364114    2018   23459   5001430                            2   \n",
       "364115    2018   23700   1458085                            2   \n",
       "364116    2018   23700   1458087                            2   \n",
       "364117    2018   23705   1465936                            2   \n",
       "364118    2018   23705   5001434                            2   \n",
       "\n",
       "        CO_OCDE_AREA_GERAL  CO_OCDE_AREA_DETALHADA  CO_GRAU_ACADEMICO  \\\n",
       "325863                 NaN                     NaN                1.0   \n",
       "325864                 NaN                     NaN                1.0   \n",
       "325865                 NaN                     NaN                1.0   \n",
       "325866                 NaN                     NaN                2.0   \n",
       "325867                 NaN                     NaN                1.0   \n",
       "...                    ...                     ...                ...   \n",
       "364114                 NaN                     NaN                3.0   \n",
       "364115                 NaN                     NaN                3.0   \n",
       "364116                 NaN                     NaN                3.0   \n",
       "364117                 NaN                     NaN                3.0   \n",
       "364118                 NaN                     NaN                3.0   \n",
       "\n",
       "        CO_MODALIDADE_ENSINO  CO_MUNICIPIO_CURSO  QT_INSCRITOS_ANO  QT_VAGAS  \\\n",
       "325863                     1           5103403.0            3141.0      92.0   \n",
       "325864                     1           5103403.0             919.0     120.0   \n",
       "325865                     1           5103403.0             637.0      55.0   \n",
       "325866                     1           5103403.0            1461.0     100.0   \n",
       "325867                     1           5103403.0            1449.0      83.0   \n",
       "...                      ...                 ...               ...       ...   \n",
       "364114                     1           3500105.0              89.0      35.0   \n",
       "364115                     1           3515707.0             155.0      40.0   \n",
       "364116                     1           3515707.0             163.0      40.0   \n",
       "364117                     1           3516408.0              41.0      41.0   \n",
       "364118                     1           3516408.0              40.0      40.0   \n",
       "\n",
       "        QT_MATRICULA_CURSO  QT_CONCLUINTE_CURSO  QT_INGRESSO_CURSO  \\\n",
       "325863               445.0                 76.0               99.0   \n",
       "325864               344.0                 38.0              120.0   \n",
       "325865               266.0                 34.0               53.0   \n",
       "325866               326.0                 49.0               98.0   \n",
       "325867               253.0                 23.0               81.0   \n",
       "...                    ...                  ...                ...   \n",
       "364114                34.0                  0.0               36.0   \n",
       "364115                38.0                  0.0               41.0   \n",
       "364116                40.0                  0.0               41.0   \n",
       "364117                33.0                  0.0               41.0   \n",
       "364118                32.0                  0.0               40.0   \n",
       "\n",
       "       DT_INICIO_FUNCIONAMENTO NM_CATEGORIA_ADMINISTRATIVA NO_AREA_GERAL  \n",
       "325863              05/09/1952                     PUBLICA           NaN  \n",
       "325864              11/10/1968                     PUBLICA           NaN  \n",
       "325865              11/10/1968                     PUBLICA           NaN  \n",
       "325866              15/09/1970                     PUBLICA           NaN  \n",
       "325867              09/03/1970                     PUBLICA           NaN  \n",
       "...                        ...                         ...           ...  \n",
       "364114                     NaN                     PUBLICA           NaN  \n",
       "364115              01/08/2018                     PUBLICA           NaN  \n",
       "364116              01/08/2018                     PUBLICA           NaN  \n",
       "364117                     NaN                     PUBLICA           NaN  \n",
       "364118                     NaN                     PUBLICA           NaN  \n",
       "\n",
       "[38256 rows x 17 columns]"
      ]
     },
     "execution_count": 255,
     "metadata": {},
     "output_type": "execute_result"
    }
   ],
   "source": [
    "cursos[cursos['NU_ANO']==2018]"
   ]
  },
  {
   "cell_type": "markdown",
   "metadata": {},
   "source": [
    "<b>1.1.3. Exploring 'CO_GRAU_ACADEMICO' column (course level)</b>\n",
    "\n",
    "Values dictionary:\n",
    "\n",
    "- Bachelor Degree: CO_GRAU_ACADEMICO = 1\n",
    "- Bachelor Degree (Teachers license): CO_GRAU_ACADEMICO = 2\n",
    "- 2-year courses: CO_GRAU_ACADEMICO = 3\n",
    "- Grad and post-grade courses: CO_GRAU_ACADEMICO = .\n",
    "\n",
    "Undergraduation courses have values between 1 and 3. In this study we will focus only on undergrad courses."
   ]
  },
  {
   "cell_type": "code",
   "execution_count": 256,
   "metadata": {},
   "outputs": [
    {
     "name": "stdout",
     "output_type": "stream",
     "text": [
      "3316\n"
     ]
    },
    {
     "data": {
      "text/plain": [
       "<function matplotlib.pyplot.show(*args, **kw)>"
      ]
     },
     "execution_count": 256,
     "metadata": {},
     "output_type": "execute_result"
    },
    {
     "data": {
      "image/png": "[encoded data removed]",
      "text/plain": [
       "<Figure size 864x576 with 2 Axes>"
      ]
     },
     "metadata": {
      "needs_background": "light"
     },
     "output_type": "display_data"
    }
   ],
   "source": [
    "print(cursos['CO_GRAU_ACADEMICO'].isna().sum())\n",
    "\n",
    "# There are 3316 'nan' values in CO_CATEGORIA_ADMINITRATIVA\n",
    "# Replacing 'nan' for '-1' in order to check nan distribution across year in a heatmap\n",
    "\n",
    "\n",
    "grau_acad = cursos.fillna(-1).groupby(['NU_ANO','CO_GRAU_ACADEMICO'])['CO_CURSO'].nunique().to_frame()\n",
    "grau_acad.reset_index(level=[0,1], inplace = True)\n",
    "\n",
    "fig = plt.figure(figsize = (12,8))\n",
    "\n",
    "sns.heatmap(grau_acad.pivot('NU_ANO','CO_GRAU_ACADEMICO','CO_CURSO'), \n",
    "                      cbar=True\n",
    "                     )\n",
    "\n",
    "fig.tight_layout()\n",
    "plt.show"
   ]
  },
  {
   "cell_type": "code",
   "execution_count": 257,
   "metadata": {},
   "outputs": [],
   "source": [
    "# keeping only undergrad courses\n",
    "\n",
    "cursos = cursos[cursos['CO_GRAU_ACADEMICO']>=0]"
   ]
  },
  {
   "cell_type": "markdown",
   "metadata": {},
   "source": [
    "<b> 1.1.4. Exploring 'CO_MODALIDADE_ENSINO' column (in-class x on-line courses)</b>\n",
    "\n",
    "- in-class: CO_MODALIDADE_ENSINO = 1\n",
    "- on-class: CO_MODALIDADE_ENSINO = 2"
   ]
  },
  {
   "cell_type": "code",
   "execution_count": 258,
   "metadata": {},
   "outputs": [
    {
     "name": "stdout",
     "output_type": "stream",
     "text": [
      "0\n"
     ]
    }
   ],
   "source": [
    "print(cursos['CO_MODALIDADE_ENSINO'].isna().sum())\n",
    "\n",
    "# There are 3316 'nan' values in CO_CATEGORIA_ADMINITRATIVA\n",
    "# Replacing 'nan' for '-1' in order to check nan distribution across year\n",
    "\n",
    "\n",
    "mod_ens = cursos.fillna(-1).groupby(['NU_ANO','NM_CATEGORIA_ADMINISTRATIVA','CO_MODALIDADE_ENSINO'])['CO_CURSO'].nunique().to_frame()\n",
    "mod_ens.reset_index(level=[0,1,2], inplace = True)\n",
    "\n",
    "\n"
   ]
  },
  {
   "cell_type": "code",
   "execution_count": 259,
   "metadata": {},
   "outputs": [
    {
     "data": {
      "image/png": "[encoded data removed]",
      "text/plain": [
       "<Figure size 864x576 with 1 Axes>"
      ]
     },
     "metadata": {
      "needs_background": "light"
     },
     "output_type": "display_data"
    }
   ],
   "source": [
    "# In the area plot below we can see that the vast majoraty of courses are in-class. \n",
    "# After 2014 there is a slight increase in on-line courses in private institutions.\n",
    "\n",
    "fig = mod_ens[mod_ens['NM_CATEGORIA_ADMINISTRATIVA']=='PRIVADA'].pivot('NU_ANO','CO_MODALIDADE_ENSINO','CO_CURSO').plot.area(figsize=(12,8), \n",
    "                                                                                xticks=range(2009,2019,1),\n",
    "                                                                                xlim=(2009,2018),\n",
    "                                                                                title='Private courses - on-line x in-class')\n",
    "\n",
    "fig.legend(loc='upper left')\n",
    "\n",
    "plt.show()"
   ]
  },
  {
   "cell_type": "code",
   "execution_count": 260,
   "metadata": {},
   "outputs": [
    {
     "data": {
      "image/png": "[encoded data removed]",
      "text/plain": [
       "<Figure size 864x576 with 1 Axes>"
      ]
     },
     "metadata": {
      "needs_background": "light"
     },
     "output_type": "display_data"
    }
   ],
   "source": [
    "fig = mod_ens[mod_ens['NM_CATEGORIA_ADMINISTRATIVA']=='PUBLICA'].pivot('NU_ANO','CO_MODALIDADE_ENSINO','CO_CURSO').plot.area(figsize=(12,8), \n",
    "                                                                                xticks=range(2009,2019,1),\n",
    "                                                                                xlim=(2009,2018),\n",
    "                                                                                title='Public courses - on-line x in-class')\n",
    "\n",
    "fig.legend(loc='upper left')\n",
    "\n",
    "plt.show()"
   ]
  },
  {
   "cell_type": "markdown",
   "metadata": {},
   "source": [
    "<b>1.1.5. exploring QT columns. </b>\n",
    "\n",
    "- QT_INCRITOS_ANO: number of students that applied to the course\n",
    "- QT_VAGAS: number of seats\n",
    "- QT_MATRICULA_CURSO: number of enrolled students\n",
    "- QT_CONCLUINTE_CURSO: number of students in the last semester\n",
    "- QT_INGRESSO_CURSO: number of students in the first semester (freshman)"
   ]
  },
  {
   "cell_type": "code",
   "execution_count": 261,
   "metadata": {},
   "outputs": [],
   "source": [
    "qt_columns = []\n",
    "\n",
    "for c in list(cursos):\n",
    "    if c[0:2] == 'QT':\n",
    "        qt_columns.append(c)\n",
    "    else:\n",
    "        continue\n"
   ]
  },
  {
   "cell_type": "code",
   "execution_count": 262,
   "metadata": {},
   "outputs": [
    {
     "data": {
      "text/plain": [
       "63172     50.0\n",
       "63173    350.0\n",
       "63174      0.0\n",
       "63175     50.0\n",
       "63176     35.0\n",
       "         ...  \n",
       "93002    200.0\n",
       "93003    240.0\n",
       "93004    200.0\n",
       "93005    140.0\n",
       "93006     70.0\n",
       "Name: QT_VAGAS, Length: 29507, dtype: float64"
      ]
     },
     "execution_count": 262,
     "metadata": {},
     "output_type": "execute_result"
    }
   ],
   "source": [
    "cursos[cursos['NU_ANO']==2010]['QT_VAGAS']"
   ]
  },
  {
   "cell_type": "code",
   "execution_count": 263,
   "metadata": {
    "scrolled": true
   },
   "outputs": [
    {
     "data": {
      "image/png": "[encoded data removed]",
      "text/plain": [
       "<Figure size 432x288 with 1 Axes>"
      ]
     },
     "metadata": {
      "needs_background": "light"
     },
     "output_type": "display_data"
    },
    {
     "data": {
      "image/png": "[encoded data removed]",
      "text/plain": [
       "<Figure size 432x288 with 1 Axes>"
      ]
     },
     "metadata": {
      "needs_background": "light"
     },
     "output_type": "display_data"
    },
    {
     "data": {
      "image/png": "[encoded data removed]",
      "text/plain": [
       "<Figure size 432x288 with 1 Axes>"
      ]
     },
     "metadata": {
      "needs_background": "light"
     },
     "output_type": "display_data"
    },
    {
     "data": {
      "image/png": "[encoded data removed]",
      "text/plain": [
       "<Figure size 432x288 with 1 Axes>"
      ]
     },
     "metadata": {
      "needs_background": "light"
     },
     "output_type": "display_data"
    },
    {
     "data": {
      "image/png": "[encoded data removed]",
      "text/plain": [
       "<Figure size 432x288 with 1 Axes>"
      ]
     },
     "metadata": {
      "needs_background": "light"
     },
     "output_type": "display_data"
    }
   ],
   "source": [
    "# The ugly graphs bellow brings some informations:\n",
    "#\n",
    "# - All QT columns have upper outliers.\n",
    "# - QT_INCRITOS_ANO and QT_VAGAS have higher variance\n",
    "# - Variance for Public insitutions is lower\n",
    "\n",
    "\n",
    "for col in qt_columns:\n",
    "    sns.violinplot(x='NU_ANO', y=col, \n",
    "                   data=cursos[cursos['CO_MODALIDADE_ENSINO']==1], \n",
    "                   hue='NM_CATEGORIA_ADMINISTRATIVA',\n",
    "                   showfliers = False)\n",
    "    plt.show()\n",
    "\n"
   ]
  },
  {
   "cell_type": "markdown",
   "metadata": {},
   "source": [
    "<b> 1.1.6. Exploring 'DT_INICIO_FUNCIONAMENTO' column (inauguration date)</b>"
   ]
  },
  {
   "cell_type": "code",
   "execution_count": 264,
   "metadata": {},
   "outputs": [
    {
     "name": "stdout",
     "output_type": "stream",
     "text": [
      "2539\n",
      "[  nan 1952. 1968. 1970. 1971. 1974. 1978. 1975. 1976. 1981. 1986. 1977.\n",
      " 1988. 1991. 1992. 1994. 1987. 1999. 1990. 2001. 2002. 2003. 2005. 2006.\n",
      " 2008. 2007. 2009. 2010. 2000. 2011. 2012. 2013. 2014. 2015. 2017. 2018.\n",
      " 1962. 1972. 1985. 1969. 1979. 1966. 1989. 1993. 1995. 1997. 1963. 1980.\n",
      " 1967. 1998. 1951. 1950. 1961. 1910. 1945. 1958. 1965. 1964. 1973. 2004.\n",
      " 1931. 1984. 1996. 1982. 2016. 1891. 1875. 1957. 1839. 1928. 1954. 1953.\n",
      " 1943. 1946. 1960. 1959. 1956. 1983. 1955. 1942. 1940. 1947. 1934. 1938.\n",
      " 1949. 1944. 1828. 1924. 1901. 1948. 1902. 1913. 1899. 1911. 1894. 1923.\n",
      " 1941. 1932. 1933. 1929. 1936. 1939. 1919. 1914. 1904. 1937. 1912. 1926.\n",
      " 1915. 1930. 1893. 1907. 1925. 1916. 1897. 1832. 1808. 1879. 1877. 1895.\n",
      " 1920. 1903. 1896. 1889. 1898. 1900. 1918. 1820. 1816. 1927. 1811. 1856.\n",
      " 1847. 1908. 1888. 1890.]\n"
     ]
    },
    {
     "data": {
      "text/html": [
       "<div>\n",
       "<style scoped>\n",
       "    .dataframe tbody tr th:only-of-type {\n",
       "        vertical-align: middle;\n",
       "    }\n",
       "\n",
       "    .dataframe tbody tr th {\n",
       "        vertical-align: top;\n",
       "    }\n",
       "\n",
       "    .dataframe thead th {\n",
       "        text-align: right;\n",
       "    }\n",
       "</style>\n",
       "<table border=\"1\" class=\"dataframe\">\n",
       "  <thead>\n",
       "    <tr style=\"text-align: right;\">\n",
       "      <th></th>\n",
       "      <th>NU_ANO</th>\n",
       "      <th>CO_IES</th>\n",
       "      <th>CO_CURSO</th>\n",
       "      <th>CO_CATEGORIA_ADMINISTRATIVA</th>\n",
       "      <th>CO_OCDE_AREA_GERAL</th>\n",
       "      <th>CO_OCDE_AREA_DETALHADA</th>\n",
       "      <th>CO_GRAU_ACADEMICO</th>\n",
       "      <th>CO_MODALIDADE_ENSINO</th>\n",
       "      <th>CO_MUNICIPIO_CURSO</th>\n",
       "      <th>QT_INSCRITOS_ANO</th>\n",
       "      <th>QT_VAGAS</th>\n",
       "      <th>QT_MATRICULA_CURSO</th>\n",
       "      <th>QT_CONCLUINTE_CURSO</th>\n",
       "      <th>QT_INGRESSO_CURSO</th>\n",
       "      <th>DT_INICIO_FUNCIONAMENTO</th>\n",
       "      <th>NM_CATEGORIA_ADMINISTRATIVA</th>\n",
       "      <th>NO_AREA_GERAL</th>\n",
       "      <th>ANO_INICIO</th>\n",
       "    </tr>\n",
       "  </thead>\n",
       "  <tbody>\n",
       "    <tr>\n",
       "      <th>0</th>\n",
       "      <td>2009</td>\n",
       "      <td>514</td>\n",
       "      <td>10394</td>\n",
       "      <td>4</td>\n",
       "      <td>7.0</td>\n",
       "      <td>723.0</td>\n",
       "      <td>1.0</td>\n",
       "      <td>1</td>\n",
       "      <td>3300407.0</td>\n",
       "      <td>53.0</td>\n",
       "      <td>130.0</td>\n",
       "      <td>190.0</td>\n",
       "      <td>36.0</td>\n",
       "      <td>56.0</td>\n",
       "      <td>NaN</td>\n",
       "      <td>PRIVADA</td>\n",
       "      <td>Saúde e bem estar social</td>\n",
       "      <td>NaN</td>\n",
       "    </tr>\n",
       "    <tr>\n",
       "      <th>1</th>\n",
       "      <td>2009</td>\n",
       "      <td>208</td>\n",
       "      <td>5615</td>\n",
       "      <td>5</td>\n",
       "      <td>3.0</td>\n",
       "      <td>380.0</td>\n",
       "      <td>1.0</td>\n",
       "      <td>1</td>\n",
       "      <td>3543402.0</td>\n",
       "      <td>741.0</td>\n",
       "      <td>300.0</td>\n",
       "      <td>800.0</td>\n",
       "      <td>125.0</td>\n",
       "      <td>208.0</td>\n",
       "      <td>NaN</td>\n",
       "      <td>PRIVADA</td>\n",
       "      <td>Ciências sociais, negócios e direito</td>\n",
       "      <td>NaN</td>\n",
       "    </tr>\n",
       "    <tr>\n",
       "      <th>2</th>\n",
       "      <td>2009</td>\n",
       "      <td>208</td>\n",
       "      <td>5618</td>\n",
       "      <td>5</td>\n",
       "      <td>1.0</td>\n",
       "      <td>145.0</td>\n",
       "      <td>2.0</td>\n",
       "      <td>1</td>\n",
       "      <td>3543402.0</td>\n",
       "      <td>0.0</td>\n",
       "      <td>0.0</td>\n",
       "      <td>16.0</td>\n",
       "      <td>12.0</td>\n",
       "      <td>4.0</td>\n",
       "      <td>NaN</td>\n",
       "      <td>PRIVADA</td>\n",
       "      <td>Educação</td>\n",
       "      <td>NaN</td>\n",
       "    </tr>\n",
       "    <tr>\n",
       "      <th>3</th>\n",
       "      <td>2009</td>\n",
       "      <td>4962</td>\n",
       "      <td>18064</td>\n",
       "      <td>4</td>\n",
       "      <td>1.0</td>\n",
       "      <td>145.0</td>\n",
       "      <td>2.0</td>\n",
       "      <td>1</td>\n",
       "      <td>3167202.0</td>\n",
       "      <td>0.0</td>\n",
       "      <td>0.0</td>\n",
       "      <td>35.0</td>\n",
       "      <td>17.0</td>\n",
       "      <td>0.0</td>\n",
       "      <td>NaN</td>\n",
       "      <td>PRIVADA</td>\n",
       "      <td>Educação</td>\n",
       "      <td>NaN</td>\n",
       "    </tr>\n",
       "    <tr>\n",
       "      <th>4</th>\n",
       "      <td>2009</td>\n",
       "      <td>208</td>\n",
       "      <td>5625</td>\n",
       "      <td>5</td>\n",
       "      <td>5.0</td>\n",
       "      <td>524.0</td>\n",
       "      <td>1.0</td>\n",
       "      <td>1</td>\n",
       "      <td>3543402.0</td>\n",
       "      <td>334.0</td>\n",
       "      <td>110.0</td>\n",
       "      <td>319.0</td>\n",
       "      <td>23.0</td>\n",
       "      <td>100.0</td>\n",
       "      <td>NaN</td>\n",
       "      <td>PRIVADA</td>\n",
       "      <td>Engenharia, produção e construção</td>\n",
       "      <td>NaN</td>\n",
       "    </tr>\n",
       "  </tbody>\n",
       "</table>\n",
       "</div>"
      ],
      "text/plain": [
       "   NU_ANO  CO_IES  CO_CURSO  CO_CATEGORIA_ADMINISTRATIVA  CO_OCDE_AREA_GERAL  \\\n",
       "0    2009     514     10394                            4                 7.0   \n",
       "1    2009     208      5615                            5                 3.0   \n",
       "2    2009     208      5618                            5                 1.0   \n",
       "3    2009    4962     18064                            4                 1.0   \n",
       "4    2009     208      5625                            5                 5.0   \n",
       "\n",
       "   CO_OCDE_AREA_DETALHADA  CO_GRAU_ACADEMICO  CO_MODALIDADE_ENSINO  \\\n",
       "0                   723.0                1.0                     1   \n",
       "1                   380.0                1.0                     1   \n",
       "2                   145.0                2.0                     1   \n",
       "3                   145.0                2.0                     1   \n",
       "4                   524.0                1.0                     1   \n",
       "\n",
       "   CO_MUNICIPIO_CURSO  QT_INSCRITOS_ANO  QT_VAGAS  QT_MATRICULA_CURSO  \\\n",
       "0           3300407.0              53.0     130.0               190.0   \n",
       "1           3543402.0             741.0     300.0               800.0   \n",
       "2           3543402.0               0.0       0.0                16.0   \n",
       "3           3167202.0               0.0       0.0                35.0   \n",
       "4           3543402.0             334.0     110.0               319.0   \n",
       "\n",
       "   QT_CONCLUINTE_CURSO  QT_INGRESSO_CURSO DT_INICIO_FUNCIONAMENTO  \\\n",
       "0                 36.0               56.0                     NaN   \n",
       "1                125.0              208.0                     NaN   \n",
       "2                 12.0                4.0                     NaN   \n",
       "3                 17.0                0.0                     NaN   \n",
       "4                 23.0              100.0                     NaN   \n",
       "\n",
       "  NM_CATEGORIA_ADMINISTRATIVA                         NO_AREA_GERAL  \\\n",
       "0                     PRIVADA              Saúde e bem estar social   \n",
       "1                     PRIVADA  Ciências sociais, negócios e direito   \n",
       "2                     PRIVADA                              Educação   \n",
       "3                     PRIVADA                              Educação   \n",
       "4                     PRIVADA     Engenharia, produção e construção   \n",
       "\n",
       "   ANO_INICIO  \n",
       "0         NaN  \n",
       "1         NaN  \n",
       "2         NaN  \n",
       "3         NaN  \n",
       "4         NaN  "
      ]
     },
     "execution_count": 264,
     "metadata": {},
     "output_type": "execute_result"
    }
   ],
   "source": [
    "print(cursos[cursos['NU_ANO']==2018]['DT_INICIO_FUNCIONAMENTO'].isna().sum())\n",
    "\n",
    "# 2588 nan values for 'DT_INICIO_FUNCIONAMENTO' in 2018\n",
    "cursos['ANO_INICIO'] = cursos['DT_INICIO_FUNCIONAMENTO'].str[-4:]\n",
    "\n",
    "#there is an outliner 'ANO_INICIO'==2917\n",
    "\n",
    "cursos = cursos[cursos['ANO_INICIO']!='2917']\n",
    "cursos = cursos[cursos['ANO_INICIO']!='']\n",
    "\n",
    "cursos['ANO_INICIO'] = cursos['ANO_INICIO'].astype(float)\n",
    "\n",
    "print(cursos['ANO_INICIO'].unique())\n",
    "\n",
    "cursos.head()"
   ]
  },
  {
   "cell_type": "code",
   "execution_count": 265,
   "metadata": {},
   "outputs": [
    {
     "name": "stderr",
     "output_type": "stream",
     "text": [
      "C:\\Users\\Thiago\\anaconda3\\lib\\site-packages\\numpy\\lib\\histograms.py:839: RuntimeWarning: invalid value encountered in greater_equal\n",
      "  keep = (tmp_a >= first_edge)\n",
      "C:\\Users\\Thiago\\anaconda3\\lib\\site-packages\\numpy\\lib\\histograms.py:840: RuntimeWarning: invalid value encountered in less_equal\n",
      "  keep &= (tmp_a <= last_edge)\n"
     ]
    },
    {
     "data": {
      "text/plain": [
       "(array([3.000e+00, 2.000e+00, 1.000e+00, 0.000e+00, 2.000e+00, 1.000e+00,\n",
       "        0.000e+00, 1.000e+00, 0.000e+00, 2.000e+01, 0.000e+00, 1.000e+00,\n",
       "        0.000e+00, 0.000e+00, 0.000e+00, 1.000e+00, 3.000e+00, 0.000e+00,\n",
       "        0.000e+00, 6.000e+00, 8.000e+00, 8.000e+00, 8.000e+00, 2.000e+00,\n",
       "        2.500e+01, 1.500e+01, 6.000e+00, 1.000e+01, 7.000e+00, 7.300e+01,\n",
       "        5.900e+01, 1.390e+02, 1.020e+02, 1.150e+02, 1.700e+02, 1.830e+02,\n",
       "        2.200e+02, 2.830e+02, 6.130e+02, 7.170e+02, 5.200e+02, 1.860e+02,\n",
       "        4.290e+02, 6.010e+02, 8.450e+02, 3.449e+03, 4.792e+03, 7.231e+03,\n",
       "        6.234e+03, 8.331e+03]),\n",
       " array([1808. , 1812.2, 1816.4, 1820.6, 1824.8, 1829. , 1833.2, 1837.4,\n",
       "        1841.6, 1845.8, 1850. , 1854.2, 1858.4, 1862.6, 1866.8, 1871. ,\n",
       "        1875.2, 1879.4, 1883.6, 1887.8, 1892. , 1896.2, 1900.4, 1904.6,\n",
       "        1908.8, 1913. , 1917.2, 1921.4, 1925.6, 1929.8, 1934. , 1938.2,\n",
       "        1942.4, 1946.6, 1950.8, 1955. , 1959.2, 1963.4, 1967.6, 1971.8,\n",
       "        1976. , 1980.2, 1984.4, 1988.6, 1992.8, 1997. , 2001.2, 2005.4,\n",
       "        2009.6, 2013.8, 2018. ]),\n",
       " <a list of 50 Patch objects>)"
      ]
     },
     "execution_count": 265,
     "metadata": {},
     "output_type": "execute_result"
    },
    {
     "data": {
      "image/png": "[encoded data removed]",
      "text/plain": [
       "<Figure size 1296x360 with 1 Axes>"
      ]
     },
     "metadata": {
      "needs_background": "light"
     },
     "output_type": "display_data"
    }
   ],
   "source": [
    "# We can see that most courses active in 2018 were oppened only after 2000\n",
    "\n",
    "fig = plt.figure(figsize=(18,5))\n",
    "plt.hist('ANO_INICIO', bins=50, data=cursos[cursos['NU_ANO']==2018])"
   ]
  },
  {
   "cell_type": "markdown",
   "metadata": {},
   "source": [
    "<b>1.1.6 Saving 'cleaned' courses dataframe</b>"
   ]
  },
  {
   "cell_type": "code",
   "execution_count": 266,
   "metadata": {},
   "outputs": [
    {
     "data": {
      "text/plain": [
       "NU_ANO  NO_AREA_GERAL                       \n",
       "2009    Agricultura e veterinária                 873\n",
       "        Ciências sociais, negócios e direito    27179\n",
       "        Ciências, matemática e computação        5361\n",
       "        Educação                                15783\n",
       "        Engenharia, produção e construção        3352\n",
       "                                                ...  \n",
       "2017    Educação                                 7291\n",
       "        Engenharia, produção e construção        5670\n",
       "        Humanidades e artes                      1610\n",
       "        Saúde e bem estar social                 4696\n",
       "        Serviços                                 1170\n",
       "Name: CO_CURSO, Length: 72, dtype: int64"
      ]
     },
     "execution_count": 266,
     "metadata": {},
     "output_type": "execute_result"
    }
   ],
   "source": [
    "cursos.to_csv('data/cursos.csv')\n",
    "cursos.groupby(['NU_ANO','NO_AREA_GERAL'])['CO_CURSO'].count()"
   ]
  },
  {
   "cell_type": "markdown",
   "metadata": {},
   "source": [
    "## 1.2. Institutions dataframes\n",
    "\n",
    "<i>Important: This code needs to be update for better organzation and further exploration of the data. </i>"
   ]
  },
  {
   "cell_type": "markdown",
   "metadata": {},
   "source": [
    "<b> 1.2.1. Standardization of columns across years </b>"
   ]
  },
  {
   "cell_type": "code",
   "execution_count": 33,
   "metadata": {},
   "outputs": [],
   "source": [
    "# Not using 2009 Database because there is no budget info for this year\n",
    "\n",
    "for i in range(2010,2017,1):\n",
    "    globals()[\"ies_\" + str(i)] = globals()[\"ies_\" + str(i)][[ \n",
    "                     'CO_IES', \n",
    "                     'NO_IES',\n",
    "                     'CO_MANTENEDORA',\n",
    "                     'NO_MANTENEDORA',\n",
    "                     'CO_CATEGORIA_ADMINISTRATIVA',\n",
    "                     'CO_ORGANIZACAO_ACADEMICA',\n",
    "                     'CO_MUNICIPIO_IES',\n",
    "                     'CO_UF_IES',\n",
    "                     'VL_RECEITA_PROPRIA',\n",
    "                     'VL_TRANSFERENCIA',\n",
    "                     'VL_OUTRA_RECEITA',\n",
    "                     'VL_DES_PESSOAL_REM_DOCENTE',\n",
    "                     'VL_DES_PESSOAL_REM_TECNICO',\n",
    "                     'VL_DES_PESSOAL_ENCARGO',\n",
    "                     'VL_DES_CUSTEIO',\n",
    "                     'VL_DES_INVESTIMENTO',\n",
    "                     'VL_DES_PESQUISA',\n",
    "                     'VL_DES_OUTRAS']]\n",
    "    \n",
    "    globals()[\"ies_\" + str(i)]['NU_ANO'] = i\n",
    "\n",
    "    \n",
    "for i in range(2010,2019,1):\n",
    "    globals()[\"ies_\" + str(i)] = globals()[\"ies_\" + str(i)].rename(columns={\n",
    "        'TP_CATEGORIA_ADMINISTRATIVA' : 'CO_CATEGORIA_ADMINISTRATIVA',                                             \n",
    "        'TP_ORGANIZACAO_ACADEMICA' : 'CO_ORGANIZACAO_ACADEMICA',                                                \n",
    "        'CO_UF' : 'CO_UF_IES',                                             \n",
    "        'CO_MUNICIPIO' : 'CO_MUNICIPIO_IES',                                              \n",
    "        'VL_RECEITA_TRANSFERENCIA' : 'VL_TRANSFERENCIA',                                             \n",
    "        'VL_RECEITA_OUTRA' : 'VL_OUTRA_RECEITA',                                              \n",
    "        'VL_DESPESA_PESSOAL_DOCENTE' : 'VL_DES_PESSOAL_REM_DOCENTE',                                                \n",
    "        'VL_DESPESA_PESSOAL_TECNICO' : 'VL_DES_PESSOAL_REM_TECNICO',                                                \n",
    "        'VL_DESPESA_PESSOAL_ENCARGO' : 'VL_DES_PESSOAL_ENCARGO',                                               \n",
    "        'VL_DESPESA_CUSTEIO' : 'VL_DES_CUSTEIO',                                                \n",
    "        'VL_DESPESA_INVESTIMENTO' : 'VL_DES_INVESTIMENTO',                                              \n",
    "        'VL_DESPESA_PESQUISA' : 'VL_DES_PESQUISA',                                                \n",
    "        'VL_DESPESA_OUTRA': 'VL_DES_OUTRAS'})\n",
    "    \n",
    "    globals()[\"ies_\" + str(i)] = globals()[\"ies_\" + str(i)][[ \n",
    "                     'CO_IES', \n",
    "                     'NO_IES',\n",
    "                     'CO_MANTENEDORA',\n",
    "                     'NO_MANTENEDORA',\n",
    "                     'CO_CATEGORIA_ADMINISTRATIVA',\n",
    "                     'CO_ORGANIZACAO_ACADEMICA',\n",
    "                     'CO_MUNICIPIO_IES',\n",
    "                     'CO_UF_IES',\n",
    "                     'VL_RECEITA_PROPRIA',\n",
    "                     'VL_TRANSFERENCIA',\n",
    "                     'VL_OUTRA_RECEITA',\n",
    "                     'VL_DES_PESSOAL_REM_DOCENTE',\n",
    "                     'VL_DES_PESSOAL_REM_TECNICO',\n",
    "                     'VL_DES_PESSOAL_ENCARGO',\n",
    "                     'VL_DES_CUSTEIO',\n",
    "                     'VL_DES_INVESTIMENTO',\n",
    "                     'VL_DES_PESQUISA',\n",
    "                     'VL_DES_OUTRAS']]\n",
    "    \n",
    "    globals()[\"ies_\" + str(i)]['NU_ANO'] = i\n",
    "                                              "
   ]
  },
  {
   "cell_type": "code",
   "execution_count": 34,
   "metadata": {},
   "outputs": [],
   "source": [
    "# Appeding all courses ies dataframes in one and save in a csv file\n",
    "\n",
    "os.chdir(\"C:/Users/Thiago/Documents/DataScience/Projeto_A\")\n",
    "\n",
    "ies_list=[]\n",
    "\n",
    "for i in range(2011,2019,1):\n",
    "    ies_list.append(globals()[\"ies_\" + str(i)])\n",
    "\n",
    "ies = ies_2010.append(ies_list)"
   ]
  },
  {
   "cell_type": "code",
   "execution_count": 35,
   "metadata": {},
   "outputs": [
    {
     "name": "stderr",
     "output_type": "stream",
     "text": [
      "C:\\Users\\Thiago\\anaconda3\\lib\\site-packages\\pandas\\core\\indexing.py:671: SettingWithCopyWarning: \n",
      "A value is trying to be set on a copy of a slice from a DataFrame\n",
      "\n",
      "See the caveats in the documentation: https://pandas.pydata.org/pandas-docs/stable/user_guide/indexing.html#returning-a-view-versus-a-copy\n",
      "  self._setitem_with_indexer(indexer, value)\n"
     ]
    }
   ],
   "source": [
    "# Create categorical variable for private/public schools\n",
    "\n",
    "ies['NM_CATEGORIA_ADMINISTRATIVA'] = 'PRIVADA'\n",
    "\n",
    "ies['NM_CATEGORIA_ADMINISTRATIVA'].loc[(ies['CO_CATEGORIA_ADMINISTRATIVA'] < 4)] = 'PUBLICA'"
   ]
  },
  {
   "cell_type": "code",
   "execution_count": 45,
   "metadata": {},
   "outputs": [
    {
     "data": {
      "text/plain": [
       "['NM_CATEGORIA_ADMINISTRATIVA',\n",
       " 'VL_RECEITA_PROPRIA',\n",
       " 'VL_TRANSFERENCIA',\n",
       " 'VL_OUTRA_RECEITA',\n",
       " 'VL_DES_PESSOAL_REM_DOCENTE',\n",
       " 'VL_DES_PESSOAL_REM_TECNICO',\n",
       " 'VL_DES_PESSOAL_ENCARGO',\n",
       " 'VL_DES_CUSTEIO',\n",
       " 'VL_DES_INVESTIMENTO',\n",
       " 'VL_DES_PESQUISA',\n",
       " 'VL_DES_OUTRAS']"
      ]
     },
     "execution_count": 45,
     "metadata": {},
     "output_type": "execute_result"
    }
   ],
   "source": [
    "vl_columns = ['NM_CATEGORIA_ADMINISTRATIVA']\n",
    "\n",
    "for c in list(ies):\n",
    "    if c[0:2] == 'VL':\n",
    "        vl_columns.append(c)\n",
    "    else:\n",
    "        continue\n",
    "        \n",
    "vl_columns"
   ]
  },
  {
   "cell_type": "code",
   "execution_count": null,
   "metadata": {},
   "outputs": [],
   "source": [
    "ies.to_csv('data/ies.csv')"
   ]
  },
  {
   "cell_type": "markdown",
   "metadata": {},
   "source": [
    "## 1.3. Students dataframes\n",
    "<i>Important: This code needs to be update for better organzation and further exploration of the data. </i>"
   ]
  },
  {
   "cell_type": "code",
   "execution_count": 37,
   "metadata": {},
   "outputs": [
    {
     "data": {
      "text/plain": [
       "['CO_IES',\n",
       " 'NO_IES',\n",
       " 'CO_CATEGORIA_ADMINISTRATIVA',\n",
       " 'DS_CATEGORIA_ADMINISTRATIVA',\n",
       " 'CO_ORGANIZACAO_ACADEMICA',\n",
       " 'DS_ORGANIZACAO_ACADEMICA',\n",
       " 'CO_CURSO',\n",
       " 'NO_CURSO',\n",
       " 'CO_CURSO_POLO',\n",
       " 'CO_TURNO_ALUNO',\n",
       " 'DS_TURNO_ALUNO',\n",
       " 'CO_GRAU_ACADEMICO',\n",
       " 'DS_GRAU_ACADEMICO',\n",
       " 'CO_MODALIDADE_ENSINO',\n",
       " 'DS_MODALIDADE_ENSINO',\n",
       " 'CO_NIVEL_ACADEMICO',\n",
       " 'DS_NIVEL_ACADEMICO',\n",
       " 'CO_OCDE',\n",
       " 'NO_OCDE',\n",
       " 'CO_OCDE_AREA_GERAL',\n",
       " 'NO_OCDE_AREA_GERAL',\n",
       " 'CO_OCDE_AREA_ESPECIFICA',\n",
       " 'NO_OCDE_AREA_ESPECIFICA',\n",
       " 'CO_OCDE_AREA_DETALHADA',\n",
       " 'NO_OCDE_AREA_DETALHADA',\n",
       " 'CO_ALUNO_CURSO',\n",
       " 'CO_ALUNO_CURSO_ORIGEM',\n",
       " 'CO_ALUNO',\n",
       " 'CO_COR_RACA_ALUNO',\n",
       " 'DS_COR_RACA_ALUNO',\n",
       " 'IN_SEXO_ALUNO',\n",
       " 'DS_SEXO_ALUNO',\n",
       " 'NU_ANO_ALUNO_NASC',\n",
       " 'NU_MES_ALUNO_NASC',\n",
       " 'NU_DIA_ALUNO_NASC',\n",
       " 'NU_IDADE_ALUNO',\n",
       " 'CO_NACIONALIDADE_ALUNO',\n",
       " 'DS_NACIONALIDADE_ALUNO',\n",
       " 'CO_PAIS_ORIGEM_ALUNO',\n",
       " 'CO_UF_NASCIMENTO',\n",
       " 'CO_MUNICIPIO_NASCIMENTO',\n",
       " 'IN_ALUNO_DEF_TGD_SUPER',\n",
       " 'IN_DEF_AUDITIVA',\n",
       " 'IN_DEF_FISICA',\n",
       " 'IN_DEF_INTELECTUAL',\n",
       " 'IN_DEF_MULTIPLA',\n",
       " 'IN_DEF_SURDEZ',\n",
       " 'IN_DEF_SURDOCEGUEIRA',\n",
       " 'IN_DEF_BAIXA_VISAO',\n",
       " 'IN_DEF_CEGUEIRA',\n",
       " 'IN_DEF_SUPERDOTACAO',\n",
       " 'IN_TGD_AUTISMO_INFANTIL',\n",
       " 'IN_TGD_SINDROME_ASPERGER',\n",
       " 'IN_TGD_SINDROME_RETT',\n",
       " 'IN_TGD_TRANSTOR_DESINTEGRATIVO',\n",
       " 'CO_ALUNO_SITUACAO',\n",
       " 'DS_ALUNO_SITUACAO',\n",
       " 'DT_INGRESSO_CURSO',\n",
       " 'IN_ING_VESTIBULAR',\n",
       " 'IN_ING_ENEM',\n",
       " 'IN_ING_AVALIACAO_SERIADA',\n",
       " 'IN_ING_SELECAO_SIMPLIFICADA',\n",
       " 'IN_ING_SELECAO_VAGA_REMANESC',\n",
       " 'IN_ING_SELECAO_VAGA_PROG_ESPEC',\n",
       " 'IN_ING_TRANSF_EXOFFICIO',\n",
       " 'IN_ING_DECISAO_JUDICIAL',\n",
       " 'IN_ING_CONVENIO_PECG',\n",
       " 'IN_RESERVA_VAGAS',\n",
       " 'IN_RESERVA_ETNICO',\n",
       " 'IN_RESERVA_DEFICIENCIA',\n",
       " 'IN_RESERVA_ENSINO_PUBLICO',\n",
       " 'IN_RESERVA_RENDA_FAMILIAR',\n",
       " 'IN_RESERVA_OUTRA',\n",
       " 'IN_FINANC_ESTUDANTIL',\n",
       " 'IN_FIN_REEMB_FIES',\n",
       " 'IN_FIN_REEMB_ESTADUAL',\n",
       " 'IN_FIN_REEMB_MUNICIPAL',\n",
       " 'IN_FIN_REEMB_PROG_IES',\n",
       " 'IN_FIN_REEMB_ENT_EXTERNA',\n",
       " 'IN_FIN_REEMB_OUTRA',\n",
       " 'IN_FIN_NAOREEMB_PROUNI_INTEGR',\n",
       " 'IN_FIN_NAOREEMB_PROUNI_PARCIAL',\n",
       " 'IN_FIN_NAOREEMB_ESTADUAL',\n",
       " 'IN_FIN_NAOREEMB_MUNICIPAL',\n",
       " 'IN_FIN_NAOREEMB_PROG_IES',\n",
       " 'IN_FIN_NAOREEMB_ENT_EXTERNA',\n",
       " 'IN_FIN_NAOREEMB_OUTRA',\n",
       " 'IN_APOIO_SOCIAL',\n",
       " 'IN_APOIO_ALIMENTACAO',\n",
       " 'IN_APOIO_BOLSA_PERMANENCIA',\n",
       " 'IN_APOIO_BOLSA_TRABALHO',\n",
       " 'IN_APOIO_MATERIAL_DIDATICO',\n",
       " 'IN_APOIO_MORADIA',\n",
       " 'IN_APOIO_TRANSPORTE',\n",
       " 'IN_ATIVIDADE_EXTRACURRICULAR',\n",
       " 'IN_COMPL_ESTAGIO',\n",
       " 'IN_COMPL_EXTENSAO',\n",
       " 'IN_COMPL_MONITORIA',\n",
       " 'IN_COMPL_PESQUISA',\n",
       " 'IN_BOLSA_ESTAGIO',\n",
       " 'IN_BOLSA_EXTENSAO',\n",
       " 'IN_BOLSA_MONITORIA',\n",
       " 'IN_BOLSA_PESQUISA',\n",
       " 'CO_TIPO_ESCOLA_ENS_MEDIO',\n",
       " 'IN_ALUNO_PARFOR',\n",
       " 'CO_SEMESTRE_CONCLUSAO',\n",
       " 'CO_SEMESTRE_REFERENCIA',\n",
       " 'IN_MOBILIDADE_ACADEMICA',\n",
       " 'CO_MOBILIDADE_ACADEMICA',\n",
       " 'CO_MOBILIDADE_ACADEMICA_INTERN',\n",
       " 'CO_IES_DESTINO',\n",
       " 'CO_PAIS_DESTINO',\n",
       " 'IN_MATRICULA',\n",
       " 'IN_CONCLUINTE',\n",
       " 'IN_INGRESSO_TOTAL',\n",
       " 'IN_INGRESSO_VAGA_NOVA',\n",
       " 'ANO_INGRESSO']"
      ]
     },
     "execution_count": 37,
     "metadata": {},
     "output_type": "execute_result"
    }
   ],
   "source": [
    "# Read students annual dataframes\n",
    "\n",
    "for y in range(2009,2019):    \n",
    "    globals()[\"alunos_\" + str(y)] = pd.read_csv(\"data/csv_bases/CENSO_SUPERIOR/DM_ALUNO_\" + str(y) + \".csv\", sep ='|', encoding='latin-1', nrows=0)"
   ]
  },
  {
   "cell_type": "code",
   "execution_count": 44,
   "metadata": {},
   "outputs": [],
   "source": [
    "# Students columns standardization\n",
    "\n",
    "# 2009\n",
    "\n",
    "alunos_2009 = pd.read_csv(\"data/csv_bases/CENSO_SUPERIOR/DM_ALUNO_2009.csv\", sep ='|', encoding='latin-1', \n",
    "                         usecols=['CO_CATEGORIA_ADMINISTRATIVA',\n",
    "                                  'CO_CURSO',\n",
    "                                  'CO_GRAU_ACADEMICO',\n",
    "                                  'IN_PROUNI_INTEGRAL',\n",
    "                                  'IN_PROUNI_PARCIAL', \n",
    "                                  'IN_FIES', \n",
    "                                  'IN_SEXO_ALUNO', \n",
    "                                  'CO_COR_RACA_ALUNO', \n",
    "                                  'NU_IDADE_ALUNO',\n",
    "                                  'ANO_INGRESSO'])\n",
    "\n",
    "\n",
    "alunos_2009 = alunos_2009[alunos_2009['CO_GRAU_ACADEMICO'] == 1]\n",
    "\n",
    "alunos_2009 = alunos_2009.rename(columns={'IN_FIES':'IN_FIN_REEMB_FIES', \n",
    "                                 'IN_PROUNI_INTEGRAL':'IN_FIN_NAOREEMB_PROUNI_INTEGR', \n",
    "                                 'IN_PROUNI_PARCIAL': 'IN_FIN_NAOREEMB_PROUNI_PARCIAL',\n",
    "                                 })\n"
   ]
  },
  {
   "cell_type": "code",
   "execution_count": 47,
   "metadata": {},
   "outputs": [],
   "source": [
    "# 2010 - 2013\n",
    "\n",
    "for i in range(2010,2014,1):\n",
    "    globals()['alunos_' + str(i)] = pd.read_csv(\"data/csv_bases/CENSO_SUPERIOR/DM_ALUNO_\" + str(i) + \".csv\", sep ='|', encoding='latin-1', \n",
    "                                                usecols=['CO_CATEGORIA_ADMINISTRATIVA',\n",
    "                                                         'CO_GRAU_ACADEMICO',\n",
    "                                                         'CO_CURSO',\n",
    "                                                         'IN_FIN_NAOREEMB_PROUNI_INTEGR',\n",
    "                                                         'IN_FIN_NAOREEMB_PROUNI_PARCIAL', \n",
    "                                                         'IN_FIN_REEMB_FIES', \n",
    "                                                         'IN_SEXO_ALUNO', \n",
    "                                                         'CO_COR_RACA_ALUNO', \n",
    "                                                         'NU_IDADE_ALUNO',\n",
    "                                                         'ANO_INGRESSO',\n",
    "                                                         'TP_PROCEDE_EDUC_PUBLICA'])\n",
    "    globals()['alunos_' + str(i)] = globals()['alunos_' + str(i)][globals()['alunos_' + str(i)]['CO_GRAU_ACADEMICO'] == 1]\n",
    "    globals()['alunos_' + str(i)] = globals()['alunos_' + str(i)].rename(columns={'TP_PROCEDE_EDUC_PUBLICA':'CO_TIPO_ESCOLA_ENS_MEDIO'})"
   ]
  },
  {
   "cell_type": "code",
   "execution_count": 48,
   "metadata": {},
   "outputs": [],
   "source": [
    "# 2014 - 2016\n",
    "\n",
    "for i in range(2014,2017,1):\n",
    "    globals()['alunos_' + str(i)] = pd.read_csv(\"data/csv_bases/CENSO_SUPERIOR/DM_ALUNO_\" + str(i) + \".csv\", sep ='|', encoding='latin-1', \n",
    "                                                usecols=['CO_CATEGORIA_ADMINISTRATIVA',\n",
    "                                                         'CO_GRAU_ACADEMICO',\n",
    "                                                         'CO_CURSO',\n",
    "                                                         'IN_FIN_NAOREEMB_PROUNI_INTEGR',\n",
    "                                                         'IN_FIN_NAOREEMB_PROUNI_PARCIAL', \n",
    "                                                         'IN_FIN_REEMB_FIES', \n",
    "                                                         'IN_SEXO_ALUNO', \n",
    "                                                         'CO_COR_RACA_ALUNO', \n",
    "                                                         'NU_IDADE_ALUNO',\n",
    "                                                         'ANO_INGRESSO',\n",
    "                                                         'CO_TIPO_ESCOLA_ENS_MEDIO'])\n",
    "    globals()['alunos_' + str(i)] = globals()['alunos_' + str(i)][globals()['alunos_' + str(i)]['CO_GRAU_ACADEMICO'] == 1]"
   ]
  },
  {
   "cell_type": "code",
   "execution_count": 49,
   "metadata": {},
   "outputs": [],
   "source": [
    "# 2017 - 2018\n",
    "    \n",
    "for i in range(2017,2019,1):\n",
    "    globals()['alunos_' + str(i)] = pd.read_csv(\"data/csv_bases/CENSO_SUPERIOR/DM_ALUNO_\" + str(i) + \".csv\", sep ='|', encoding='latin-1', \n",
    "                                                usecols=['TP_CATEGORIA_ADMINISTRATIVA',\n",
    "                                                         'CO_CURSO',\n",
    "                                                         'TP_GRAU_ACADEMICO',\n",
    "                                                         'IN_FIN_NAOREEMB_PROUNI_INTEGR',\n",
    "                                                         'IN_FIN_NAOREEMB_PROUNI_PARCIAL', \n",
    "                                                         'IN_FIN_REEMB_FIES', \n",
    "                                                         'TP_SEXO', \n",
    "                                                         'TP_COR_RACA', \n",
    "                                                         'NU_IDADE',\n",
    "                                                         'NU_ANO_INGRESSO',\n",
    "                                                         'TP_ESCOLA_CONCLUSAO_ENS_MEDIO'])\n",
    "    globals()['alunos_' + str(i)] = globals()['alunos_' + str(i)][globals()['alunos_' + str(i)]['TP_GRAU_ACADEMICO'] == 1]\n",
    "    globals()['alunos_' + str(i)] = globals()['alunos_' + str(i)].rename(columns={'IN_FIES':'IN_FIN_REEMB_FIES',\n",
    "                                                                          'IN_PROUNI_INTEGRAL':'IN_FIN_NAOREEMB_PROUNI_INTEGR', \n",
    "                                                                          'IN_PROUNI_PARCIAL': 'IN_FIN_NAOREEMB_PROUNI_PARCIAL',\n",
    "                                                                          'TP_GRAU_ACADEMICO':'CO_GRAU_ACADEMICO',\n",
    "                                                                          'TP_ESCOLA_CONCLUSAO_ENS_MEDIO':'CO_TIPO_ESCOLA_ENS_MEDIO',\n",
    "                                                                          'NU_ANO_INGRESSO':'ANO_INGRESSO',\n",
    "                                                                          'NU_IDADE':'NU_IDADE_ALUNO',\n",
    "                                                                          'TP_COR_RACA':'CO_COR_RACA_ALUNO',\n",
    "                                                                          'TP_SEXO':'IN_SEXO_ALUNO',\n",
    "                                                                          'TP_CATEGORIA_ADMINISTRATIVA':'CO_CATEGORIA_ADMINISTRATIVA'\n",
    "                                                                         })"
   ]
  },
  {
   "cell_type": "code",
   "execution_count": 17,
   "metadata": {},
   "outputs": [
    {
     "ename": "KeyError",
     "evalue": "'alunos_2009'",
     "output_type": "error",
     "traceback": [
      "\u001b[1;31m---------------------------------------------------------------------------\u001b[0m",
      "\u001b[1;31mKeyError\u001b[0m                                  Traceback (most recent call last)",
      "\u001b[1;32m<ipython-input-17-c147e4eccae3>\u001b[0m in \u001b[0;36m<module>\u001b[1;34m\u001b[0m\n\u001b[0;32m      2\u001b[0m \u001b[1;33m\u001b[0m\u001b[0m\n\u001b[0;32m      3\u001b[0m \u001b[1;32mfor\u001b[0m \u001b[0mi\u001b[0m \u001b[1;32min\u001b[0m \u001b[0mrange\u001b[0m\u001b[1;33m(\u001b[0m\u001b[1;36m2009\u001b[0m\u001b[1;33m,\u001b[0m\u001b[1;36m2017\u001b[0m\u001b[1;33m,\u001b[0m\u001b[1;36m1\u001b[0m\u001b[1;33m)\u001b[0m\u001b[1;33m:\u001b[0m\u001b[1;33m\u001b[0m\u001b[1;33m\u001b[0m\u001b[0m\n\u001b[1;32m----> 4\u001b[1;33m     \u001b[0mglobals\u001b[0m\u001b[1;33m(\u001b[0m\u001b[1;33m)\u001b[0m\u001b[1;33m[\u001b[0m\u001b[1;34m'alunos_'\u001b[0m \u001b[1;33m+\u001b[0m \u001b[0mstr\u001b[0m\u001b[1;33m(\u001b[0m\u001b[0mi\u001b[0m\u001b[1;33m)\u001b[0m\u001b[1;33m]\u001b[0m\u001b[1;33m.\u001b[0m\u001b[0mto_csv\u001b[0m\u001b[1;33m(\u001b[0m\u001b[1;34m'data/alunos_'\u001b[0m \u001b[1;33m+\u001b[0m \u001b[0mstr\u001b[0m\u001b[1;33m(\u001b[0m\u001b[0mi\u001b[0m\u001b[1;33m)\u001b[0m \u001b[1;33m+\u001b[0m \u001b[1;34m'.csv'\u001b[0m\u001b[1;33m,\u001b[0m \u001b[0msheet_name\u001b[0m\u001b[1;33m=\u001b[0m\u001b[1;33m[\u001b[0m\u001b[1;36m0\u001b[0m\u001b[1;33m,\u001b[0m\u001b[1;36m1\u001b[0m\u001b[1;33m,\u001b[0m\u001b[1;36m2\u001b[0m\u001b[1;33m]\u001b[0m\u001b[1;33m)\u001b[0m\u001b[1;33m\u001b[0m\u001b[1;33m\u001b[0m\u001b[0m\n\u001b[0m\u001b[0;32m      5\u001b[0m \u001b[1;33m\u001b[0m\u001b[0m\n\u001b[0;32m      6\u001b[0m \u001b[1;32mfor\u001b[0m \u001b[0mi\u001b[0m \u001b[1;32min\u001b[0m \u001b[0mrange\u001b[0m\u001b[1;33m(\u001b[0m\u001b[1;36m2017\u001b[0m\u001b[1;33m,\u001b[0m\u001b[1;36m2019\u001b[0m\u001b[1;33m,\u001b[0m\u001b[1;36m1\u001b[0m\u001b[1;33m)\u001b[0m\u001b[1;33m:\u001b[0m\u001b[1;33m\u001b[0m\u001b[1;33m\u001b[0m\u001b[0m\n",
      "\u001b[1;31mKeyError\u001b[0m: 'alunos_2009'"
     ]
    }
   ],
   "source": [
    "# Saving 'alunos_year' in separate csv files\n",
    "\n",
    "for i in range(2009,2019,1):\n",
    "    globals()['alunos_' + str(i)].to_csv('data/alunos_' + str(i) + '.csv')"
   ]
  },
  {
   "cell_type": "markdown",
   "metadata": {},
   "source": [
    "## 2. IGC\n",
    "<i>Important: This code needs to be update for better organzation and further exploration of the data. </i>"
   ]
  },
  {
   "cell_type": "code",
   "execution_count": 38,
   "metadata": {},
   "outputs": [],
   "source": [
    "for i in range(2009,2013,1):\n",
    "    globals()['igc_' + str(i)] = pd.read_excel('data/csv_bases/IGC/igc_' + str(i) + '.xls', sheet_name=[0,1,2])\n",
    "\n",
    "for i in range(2013,2017,1):\n",
    "    globals()['igc_' + str(i)] = pd.read_excel('data/csv_bases/IGC/igc_' + str(i) + '.xlsx', sheet_name=[0,1,2])\n",
    "    \n",
    "for i in range(2017,2019,1):\n",
    "    globals()['igc_' + str(i)] = pd.read_excel('data/csv_bases/IGC/igc_' + str(i) + '.xlsx')"
   ]
  },
  {
   "cell_type": "code",
   "execution_count": 39,
   "metadata": {},
   "outputs": [],
   "source": [
    "igc_2009 = igc_2009.get(0).append([igc_2009.get(1),igc_2009.get(2)])\n",
    "\n",
    "igc_2009 = igc_2009[['Ano',\n",
    "                    'Código da IES',\n",
    "                    'IES',\n",
    "                    'Dependência Administrativa' ,\n",
    "                    'Nº de cursos com CPC nos últimos três anos ',\n",
    "                    'IGC - Contínuo',\n",
    "                    'IGC - Faixas']]\n",
    "\n",
    "igc_2009['Ano'] = 2009\n",
    "\n",
    "igc_2009 = igc_2009.rename(columns={'Código da IES':'CO_IES',\n",
    "                                    'IES':'NM_IES',\n",
    "                                    'Dependência Administrativa':'NM_CATEGORIA_ADMINISTRATIVA',\n",
    "                                    'Nº de cursos com CPC nos últimos três anos ':'TOTAL_CURSOS_CPC',\n",
    "                                    'IGC - Contínuo':'IGC_CONTINUO',\n",
    "                                    'IGC - Faixas':'IGC_FAIXA'})\n",
    "\n",
    "#2010\n",
    "\n",
    "igc_2010 = igc_2010.get(0).append([igc_2010.get(1),igc_2010.get(2)])\n",
    "\n",
    "igc_2010 = igc_2010[['Ano',\n",
    "                     'Código da IES',\n",
    "                     'IES',\n",
    "                     'Dependência Administrativa',\n",
    "                     'Nº de cursos com CPC nos últimos três anos ',\n",
    "                     'IGC - Contínuo',\n",
    "                     'IGC - Faixas']]\n",
    "\n",
    "igc_2010['Ano'] = 2010\n",
    "\n",
    "igc_2010 = igc_2010.rename(columns={'Código da IES':'CO_IES',\n",
    "                                    'IES':'NM_IES',\n",
    "                                    'Dependência Administrativa':'NM_CATEGORIA_ADMINISTRATIVA',\n",
    "                                    'Nº de cursos com CPC nos últimos três anos ':'TOTAL_CURSOS_CPC',\n",
    "                                    'IGC - Contínuo':'IGC_CONTINUO',\n",
    "                                    'IGC - Faixas':'IGC_FAIXA'})\n",
    "\n",
    "#2011\n",
    "\n",
    "igc_2011 = igc_2011.get(0).append([igc_2011.get(1),igc_2011.get(2)])\n",
    "\n",
    "igc_2011 = igc_2011[['Código_da_IES',\n",
    "                     'IES',\n",
    "                     'Categoria_Administrativa',\n",
    "                     'Número_Cursos_CPC_três_anos',\n",
    "                     'IGC_contínuo',\n",
    "                     'IGC_Faixa']]\n",
    "\n",
    "igc_2011['Ano'] = 2011\n",
    "\n",
    "\n",
    "igc_2011 = igc_2011.rename(columns={'Código_da_IES':'CO_IES',\n",
    "                                    'IES':'NM_IES',\n",
    "                                    'Categoria_Administrativa':'NM_CATEGORIA_ADMINISTRATIVA',\n",
    "                                    'Número_Cursos_CPC_três_anos':'TOTAL_CURSOS_CPC',\n",
    "                                    'IGC_contínuo':'IGC_CONTINUO',\n",
    "                                    'IGC_Faixa':'IGC_FAIXA'})\n",
    "\n",
    "#2012\n",
    "igc_2012 = igc_2012.get(0).append([igc_2012.get(1),igc_2012.get(2)])\n",
    "\n",
    "igc_2012 = igc_2012[['Ano',\n",
    "                     'Código da IES',\n",
    "                     'Nome da IES',\n",
    "                     'Categoria Administrativa',\n",
    "                     'Número de Cursos com CPC no triênio',\n",
    "                     'IGC (Contínuo)',\n",
    "                     'IGC (faixa)']]\n",
    "\n",
    "igc_2012['Ano'] = 2012\n",
    "\n",
    "igc_2012 = igc_2012.rename(columns={'Código da IES':'CO_IES',\n",
    "                                    'Nome da IES':'NM_IES',\n",
    "                                    'Categoria Administrativa':'NM_CATEGORIA_ADMINISTRATIVA',\n",
    "                                    'Número de Cursos com CPC no triênio':'TOTAL_CURSOS_CPC',\n",
    "                                    'IGC (Contínuo)':'IGC_CONTINUO',\n",
    "                                    'IGC (faixa)':'IGC_FAIXA'})\n",
    "\n",
    "#2013\n",
    "\n",
    "igc_2013 = igc_2013.get(0).append([igc_2013.get(1),igc_2013.get(2)])\n",
    "\n",
    "igc_2013 = igc_2013[['Ano',\n",
    "                     'Cód.IES',\n",
    "                     'Nome da IES',\n",
    "                     'Categ. Administrativa',\n",
    "                     'Nr. de Cursos com CPC no Triênio',\n",
    "                     'IGC (Contínuo)',\n",
    "                     'IGC (faixa)']]\n",
    "\n",
    "igc_2013['Ano'] = 2013\n",
    "\n",
    "igc_2013 = igc_2013.rename(columns={'Cód.IES':'CO_IES',\n",
    "                                    'Nome da IES':'NM_IES',\n",
    "                                    'Categ. Administrativa':'NM_CATEGORIA_ADMINISTRATIVA',\n",
    "                                    'Nr. de Cursos com CPC no Triênio':'TOTAL_CURSOS_CPC',\n",
    "                                    'IGC (Contínuo)':'IGC_CONTINUO',\n",
    "                                    'IGC (faixa)':'IGC_FAIXA'})\n",
    "\n",
    "#2014\n",
    "\n",
    "igc_2014 = igc_2014.get(0).append([igc_2014.get(1),igc_2014.get(2)])\n",
    "\n",
    "igc_2014 = igc_2014[['Ano',\n",
    "                     'Cód.IES',\n",
    "                     'Nome da IES',\n",
    "                     'Categ. Administrativa',\n",
    "                     'Nr. de Cursos com CPC no Triênio',\n",
    "                     'IGC (Contínuo)',\n",
    "                     'IGC (faixa)']]\n",
    "\n",
    "igc_2014['Ano'] = 2014\n",
    "\n",
    "igc_2014 = igc_2014.rename(columns={'Cód.IES':'CO_IES',\n",
    "                                    'Nome da IES':'NM_IES',\n",
    "                                    'Categ. Administrativa':'NM_CATEGORIA_ADMINISTRATIVA',\n",
    "                                    'Nr. de Cursos com CPC no Triênio':'TOTAL_CURSOS_CPC',\n",
    "                                    'IGC (Contínuo)':'IGC_CONTINUO',\n",
    "                                    'IGC (faixa)':'IGC_FAIXA'})\n",
    "\n",
    "#2015\n",
    "\n",
    "igc_2015 = igc_2015.get(0).append([igc_2015.get(1),igc_2015.get(2)])\n",
    "\n",
    "igc_2015 = igc_2015[['Cód.IES',\n",
    "                     'Nome da IES',\n",
    "                     'Categ. Administrativa',\n",
    "                     'Nr. de Cursos com CPC no Triênio',\n",
    "                     'IGC (Contínuo)',\n",
    "                     'IGC (faixa)']]\n",
    "igc_2015['Ano'] = 2015\n",
    "\n",
    "igc_2015 = igc_2015.rename(columns={'Cód.IES':'CO_IES',\n",
    "                                    'Nome da IES':'NM_IES',\n",
    "                                    'Categ. Administrativa':'NM_CATEGORIA_ADMINISTRATIVA',\n",
    "                                    'Nr. de Cursos com CPC no Triênio':'TOTAL_CURSOS_CPC',\n",
    "                                    'IGC (Contínuo)':'IGC_CONTINUO',\n",
    "                                    'IGC (faixa)':'IGC_FAIXA'})\n",
    "\n",
    "#2016\n",
    "\n",
    "igc_2016 = igc_2016.get(0).append([igc_2016.get(1),igc_2016.get(2)])\n",
    "\n",
    "igc_2016 = igc_2016[['co_ies',\n",
    "                     'no_ies',\n",
    "                     'no_categad',\n",
    "                     'n_cursos_cpc',\n",
    "                     'igc',\n",
    "                     'fx_igc']] \n",
    "igc_2016['Ano'] = 2016\n",
    "\n",
    "igc_2016 = igc_2016.rename(columns={'co_ies':'CO_IES',\n",
    "                                    'no_ies':'NM_IES',\n",
    "                                    'no_categad':'NM_CATEGORIA_ADMINISTRATIVA',\n",
    "                                    'n_cursos_cpc':'TOTAL_CURSOS_CPC',\n",
    "                                    'igc':'IGC_CONTINUO',\n",
    "                                    'fx_igc':'IGC_FAIXA'})\n",
    "\n",
    "#2017\n",
    "\n",
    "igc_2017 = igc_2017[['Código da IES',\n",
    "                     'Nome da IES',\n",
    "                     'Categ. Administrativa',\n",
    "                     'Nº de Cursos com CPC no Triênio',\n",
    "                     'IGC (Contínuo)',\n",
    "                     'IGC (Faixa)']]\n",
    "\n",
    "igc_2017['Ano'] = 2017\n",
    "\n",
    "igc_2017 = igc_2017.rename(columns={'Código da IES':'CO_IES',\n",
    "                                    'Nome da IES':'NM_IES',\n",
    "                                    'Categ. Administrativa':'NM_CATEGORIA_ADMINISTRATIVA',\n",
    "                                    'Nº de Cursos com CPC no Triênio':'TOTAL_CURSOS_CPC',\n",
    "                                    'IGC (Contínuo)':'IGC_CONTINUO',\n",
    "                                    'IGC (Faixa)':'IGC_FAIXA'})\n",
    "\n",
    "#2018\n",
    "\n",
    "\n",
    "igc_2018 = igc_2018[['Ano',\n",
    "                     'Código da IES',\n",
    "                     'Nome da IES',\n",
    "                     'Categoria Administrativa',\n",
    "                     'Nº de Cursos com CPC no triênio',\n",
    "                     'IGC (Contínuo)',\n",
    "                     'IGC (Faixa)']]\n",
    "\n",
    "igc_2018['Ano'] = 2018\n",
    "\n",
    "igc_2018 = igc_2018.rename(columns={'Código da IES':'CO_IES',\n",
    "                                    'Nome da IES':'NM_IES',\n",
    "                                    'Categoria Administrativa':'NM_CATEGORIA_ADMINISTRATIVA',\n",
    "                                    'Nº de Cursos com CPC no triênio':'TOTAL_CURSOS_CPC',\n",
    "                                    'IGC (Contínuo)':'IGC_CONTINUO',\n",
    "                                    'IGC (Faixa)':'IGC_FAIXA'})"
   ]
  },
  {
   "cell_type": "code",
   "execution_count": 40,
   "metadata": {},
   "outputs": [],
   "source": [
    "igc_list=[]\n",
    "\n",
    "for i in range(2010,2019,1):\n",
    "    igc_list.append(globals()[\"igc_\" + str(i)])\n",
    "\n",
    "igc = igc_2009.append(igc_list)"
   ]
  },
  {
   "cell_type": "code",
   "execution_count": 42,
   "metadata": {},
   "outputs": [
    {
     "name": "stdout",
     "output_type": "stream",
     "text": [
      "[3 4 5 2 1]\n"
     ]
    }
   ],
   "source": [
    "# Padronizar valores da coluna 'IGC_FAIXA'\n",
    "\n",
    "igc['IGC_FAIXA'] = igc['IGC_FAIXA'].astype(str)\n",
    "\n",
    "igc[igc['IGC_FAIXA']=='SC'] = ''\n",
    "igc[igc['IGC_FAIXA']=='IES com CPC de cursos não reconhecidos até 30/09/2012'] = ''\n",
    "igc[igc['IGC_FAIXA']=='Descredenciada'] = ''\n",
    "igc[igc['IGC_FAIXA']=='nan'] = ''\n",
    "igc[igc['IGC_FAIXA']=='Sob investigação'] = ''\n",
    "igc[igc['IGC_FAIXA']=='Sob Supervisão'] = ''\n",
    "igc[igc['IGC_FAIXA']=='sub judice'] = ''\n",
    "igc[igc['IGC_FAIXA']=='Ato vencido'] = ''\n",
    "igc[igc['IGC_FAIXA']=='3 (sub judice)'] = ''\n",
    "igc[igc['IGC_FAIXA']=='-'] = ''\n",
    "igc[igc['IGC_FAIXA']=='Sub judice'] = ''\n",
    "igc[igc['IGC_FAIXA']=='3.0'] = '3'\n",
    "igc[igc['IGC_FAIXA']=='4.0'] = '4'\n",
    "igc[igc['IGC_FAIXA']=='2.0'] = '2'\n",
    "\n",
    "igc = igc[igc['IGC_FAIXA'] != '']\n",
    "\n",
    "igc['IGC_FAIXA'] = igc['IGC_FAIXA'].astype(int)\n",
    "\n",
    "print(igc['IGC_FAIXA'].unique())"
   ]
  },
  {
   "cell_type": "code",
   "execution_count": 44,
   "metadata": {},
   "outputs": [],
   "source": [
    "igc.to_csv('data/igc.csv')"
   ]
  },
  {
   "cell_type": "markdown",
   "metadata": {},
   "source": [
    "# 3. CPC\n",
    "<i>Important: This code needs to be update for better organzation and further exploration of the data. </i>"
   ]
  },
  {
   "cell_type": "code",
   "execution_count": 71,
   "metadata": {},
   "outputs": [],
   "source": [
    "cpc_2009 = pd.read_excel('data/csv_bases/CPC/cpc_2009.xls')\n",
    "cpc_2018 = pd.read_excel('data/csv_bases/CPC/cpc_2018.xlsx')"
   ]
  },
  {
   "cell_type": "code",
   "execution_count": 72,
   "metadata": {},
   "outputs": [],
   "source": [
    "cpc_2009 = cpc_2009[['Código da IES',\n",
    "                     'IES',\n",
    "                     'Dep. Administrativa', \n",
    "                     'Código da Área',\n",
    "                     'Área',\n",
    "                     'Código do Município',\n",
    "                     'Município',\n",
    "                     'Número de Participantes Ingressantes',\n",
    "                     'Número de Participantes Concluintes',\n",
    "                     'Nota Enade Concluintes = Conceito Enade contínuo',\n",
    "                     'CPC contínuo',\n",
    "                     'CPC faixa'\n",
    "                    ]]\n",
    "\n",
    "\n",
    "\n",
    "cpc_2009 = cpc_2009.rename(columns={'IES':'Nome da IES',\n",
    "                                   'Dep. Administrativa':'Categoria Administrativa', \n",
    "                                   'Área':'Área de Avaliação',\n",
    "                                   'Município':'Município do Curso',\n",
    "                                   'Número de Participantes Ingressantes':'Nº de Concluintes Inscritos',\n",
    "                                   'Número de Participantes Concluintes':'Nº de Concluintes Participantes',\n",
    "                                   'Nota Enade Concluintes = Conceito Enade contínuo':'Conceito Enade (Contínuo)',\n",
    "                                   'CPC contínuo':'CPC (Contínuo)',\n",
    "                                   'CPC faixa':'CPC (Faixa)'})\n",
    "\n",
    "cpc_2009['Ano'] = 2009"
   ]
  },
  {
   "cell_type": "code",
   "execution_count": 73,
   "metadata": {},
   "outputs": [],
   "source": [
    "cpc_2018 = cpc_2018[['Código da IES',\n",
    "                     'Nome da IES',\n",
    "                     'Categoria Administrativa', \n",
    "                     'Código da Área',\n",
    "                     'Área de Avaliação',\n",
    "                     'Código do Município',\n",
    "                     'Município do Curso',\n",
    "                     'Nº de Concluintes Inscritos',\n",
    "                     'Nº de Concluintes Participantes',\n",
    "                     'Conceito Enade (Contínuo)',\n",
    "                     'CPC (Contínuo)',\n",
    "                     'CPC (Faixa)'\n",
    "                    ]]\n",
    "\n",
    "cpc_2018['Ano'] = 2018"
   ]
  },
  {
   "cell_type": "code",
   "execution_count": 74,
   "metadata": {},
   "outputs": [],
   "source": [
    "cpc = cpc_2009.append(cpc_2018)"
   ]
  },
  {
   "cell_type": "code",
   "execution_count": 75,
   "metadata": {},
   "outputs": [],
   "source": [
    "cpc[cpc['CPC (Faixa)']=='SC']='0'\n",
    "cpc['CPC (Faixa)'] = cpc['CPC (Faixa)'].astype(int)\n",
    "\n",
    "cpc = cpc[cpc['CPC (Faixa)']>0]"
   ]
  },
  {
   "cell_type": "code",
   "execution_count": 76,
   "metadata": {},
   "outputs": [],
   "source": [
    "cpc.to_csv('data/cpc.csv')"
   ]
  }
 ],
 "metadata": {
  "kernelspec": {
   "display_name": "Python 3",
   "language": "python",
   "name": "python3"
  },
  "language_info": {
   "codemirror_mode": {
    "name": "ipython",
    "version": 3
   },
   "file_extension": ".py",
   "mimetype": "text/x-python",
   "name": "python",
   "nbconvert_exporter": "python",
   "pygments_lexer": "ipython3",
   "version": "3.8.3"
  }
 },
 "nbformat": 4,
 "nbformat_minor": 4
}

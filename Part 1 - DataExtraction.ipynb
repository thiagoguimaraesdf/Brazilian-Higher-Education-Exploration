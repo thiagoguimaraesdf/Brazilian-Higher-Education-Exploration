{
 "cells": [
  {
   "cell_type": "markdown",
   "metadata": {},
   "source": [
    "# Analysis of Brazilian Higher Education Data\n",
    "### (Part 1 - Data Extraction)"
   ]
  },
  {
   "cell_type": "markdown",
   "metadata": {},
   "source": [
    "<b>Date:</b> 01/09/2020\n",
    "\n",
    "<b>Author:</b> Cardoso, Thiago (thiago.guimaraesdf10@gmail.com)\n",
    "\n",
    "<b>Project Description:</b> This study seek to organize and develop basic analisis of higher educational data disponible for brazilian public and private universities. At first place, this study is a first data science project and therefore far from being a repository of best practice. Any sugestion to improve the project organization and descriptions are welcome. .\n",
    "\n",
    "This study is dividived in 3 (theere jupyter notebooks), related to the following parts:\n",
    "\n",
    "* Part 1 - Data Extraction: Download of all data used in the project.\n",
    "\n",
    "* Part 2 - Data Cleaning: Cleaning and organization of databases to be used in Data Analisis\n",
    "\n",
    "* Part 3 - Data Analisis: Exploration of Higher Education Census and Quality Index dividied in 6 sections: i) Hisotirico de matriculas por ano, por curso, área geográfica, genero e raça, entre outros aspectos; ii) \n",
    "\n",
    "<b>This notebook is related to Part 1</b>\n",
    "\n",
    "There is also a medium post with a sintax of the complete work\n",
    "\n",
    "<b>Important issues:</b>\n",
    "\n",
    "- English is not my motherlanguage. Sorry for mistakes.\n",
    "- Many (maybe most) codelines lack consistence, perfomance and effience. Did my best to conciliate produtivy and code quality. Any sugestion to improve code lines are welcome. \n",
    "- The Analisis only scracht the surface of possibilietes, considering the huge ammount of disponible information. ENADE data are very rich in student informant (specially it's questionaries) and the Higher Education Census provides a amplo framework of brazilian higher education system. Any author seeking to further the analisis employed here, fell free to contact me. I can also help with any translation issue and provide information for additional souces of data in Brazil."
   ]
  },
  {
   "cell_type": "markdown",
   "metadata": {},
   "source": [
    "## Library Import"
   ]
  },
  {
   "cell_type": "code",
   "execution_count": 4,
   "metadata": {},
   "outputs": [],
   "source": [
    "\n",
    "import os\n",
    "import shutil\n",
    "import time\n",
    "from os import path\n",
    "\n",
    "import webbrowser\n",
    "import xlsxwriter\n",
    "import zipfile\n",
    "\n",
    "import numpy as np\n",
    "import pandas as pd\n",
    "import matplotlib.pyplot as plt\n",
    "import plotly.express as px\n",
    "import seaborn as sns\n",
    "import folium\n",
    "\n",
    "%matplotlib inline"
   ]
  },
  {
   "cell_type": "markdown",
   "metadata": {},
   "source": [
    "\n",
    "    import os\n",
    "    import webbrowser\n",
    "    import time\n",
    "    from os import path"
   ]
  },
  {
   "cell_type": "markdown",
   "metadata": {},
   "source": [
    "## Brazilian Higher Education Census - 1995 to 2018"
   ]
  },
  {
   "cell_type": "markdown",
   "metadata": {},
   "source": [
    "<b>Data from brazilian public and private higher education institutes are colleted and organized by the <a href=\"http://inep.gov.br/web/guest/about-inep\">\"National Institute for Educational Studies and Research Anísio Teixeira (INEP)\"</a>.</b> Since 2009, INEP publishes the Higher Education Census microdata at student, teacher, course and institution level. Here is a brief description of the Higher Education Census provided by INEP:\n",
    "\n",
    "    Annually, this initiative collects data on higher education in the country, including graduate and sequential courses – both attendance and distance learning courses, providing a \"radiography\" of this educational level.\n",
    "\n",
    "    Higher education institutions fill out the census online forms and, based on this data, provide policy makers with an overview of educational policy trends. By collecting data regarding the number of enrollment and graduates, candidates to university entrance; information on faculty – by qualifications and contract nature – as well as on administrative and support staff; financial data and infrastructure, this initiative provides valuable information about an educational level that is perceived to be in a process of expanding and diversifying.\"\n",
    "\n",
    "From 1995 to 2008, INEP publised data only at course and institution level.\n",
    "\n",
    "In this study we focus on extracting, cleaning and analising data from 2009 - 2018. Futher work needs to be made in order to padronize 1995 to 2008 data. \n",
    "\n",
    "The code bellow download all Higher Education Census files, from 1995 to 2018, from INEP website one at a time."
   ]
  },
  {
   "cell_type": "code",
   "execution_count": null,
   "metadata": {},
   "outputs": [],
   "source": [
    "# Data extration (Higher Education Census)\n",
    "\n",
    "# Files names are in different formats:\n",
    "#\n",
    "# - 1995 to 2008 and 2017 to 2018 files are named microdados_educacao_superior_YEAR.zip\n",
    "# - 2009 to 2016 files are named microdados_censo_superior_YEAR.zip\n",
    "#\n",
    "# At this date (16/08/2020) all files can be found in http://download.inep.gov.br/microdados\n",
    "\n",
    "years = list(range(1995,2008))\n",
    "years.extend([2017,2018])\n",
    "\n",
    "for y in years:\n",
    "    \n",
    "    webbrowser.open(\"http://download.inep.gov.br/microdados/microdados_educacao_superior_\" + str(y) + \".zip\")\n",
    "    \n",
    "    while not os.path.exists(\"C:/Users/Thiago/Downloads/microdados_educacao_superior_\" + str(y) + \".zip\"):\n",
    "         time.sleep(1)\n",
    "            \n",
    "    if os.path.isfile(\"C:/Users/Thiago/Downloads/microdados_educacao_superior_\" + str(y) + \".zip\"):\n",
    "        continue\n",
    "\n",
    "for y in range(2009,2016):\n",
    "  \n",
    "    webbrowser.open(\"http://download.inep.gov.br/microdados/microdados_censo_superior_\" + str(y) + \".zip\")\n",
    "    \n",
    "    while not os.path.exists(\"C:/Users/Thiago/Downloads/microdados_censo_superior_\" + str(y) + \".zip\"):\n",
    "         time.sleep(1)\n",
    "            \n",
    "    if os.path.isfile(\"C:/Users/Thiago/Downloads/microdados_censo_superior_\" + str(y) + \".zip\"):\n",
    "        continue  "
   ]
  },
  {
   "cell_type": "markdown",
   "metadata": {},
   "source": [
    "## National Assessment of Student Achievement (ENADE) - 2004 to 2018"
   ]
  },
  {
   "cell_type": "markdown",
   "metadata": {},
   "source": [
    "<b>ENADE is a external evalution applied annually to assess undergraduate students learning at their final year.</b> Each course is assessed every three years, since programs are grouped in three representative areas and each year one group is assessed. \n",
    "\n",
    "ENADE microdata provides information at student level (unidentified), regarding each students ansewrs and results in the content assessment and also its response to a socioeconomic and course quality perception questionary. \n",
    "\n",
    "The code bellow download all ENADE files, from 2004 to 2018, from INEP website one at a time."
   ]
  },
  {
   "cell_type": "code",
   "execution_count": null,
   "metadata": {},
   "outputs": [],
   "source": [
    "# Data extration (ENADE)\n",
    "\n",
    "years = list(range(2004,2016))\n",
    "years.extend([2018])\n",
    "\n",
    "for y in years:  \n",
    "    webbrowser.open(\"http://download.inep.gov.br/microdados/Enade_Microdados/microdados_enade_\" + str(y) + \".zip\")    \n",
    "    while not os.path.exists(\"C:/Users/Thiago/Downloads/microdados_enade_\" + str(y) + \".zip\"):\n",
    "         time.sleep(1)           \n",
    "    if os.path.isfile(\"C:/Users/Thiago/Downloads/microdados_enade_\" + str(y) + \".zip\"):\n",
    "        continue\n",
    "\n",
    "webbrowser.open(\"http://download.inep.gov.br/microdados/Enade_Microdados/microdados_enade_2016_versao_28052018.zip\")       \n",
    "webbrowser.open(\"http://download.inep.gov.br/microdados/Enade_Microdados/microdados_Enade_2017_portal_2018.10.09.zip\")       "
   ]
  },
  {
   "cell_type": "markdown",
   "metadata": {},
   "source": [
    "## Preliminar Cource concept (CPC)"
   ]
  },
  {
   "cell_type": "markdown",
   "metadata": {},
   "source": [
    "<b>CPC is an index, ranging from 1 to 5, calculed by INEP to assess undergraduation courses quality.</b>.\n",
    "\n",
    "For this analisis, only 2009 and 2018 CPC data is used. The 2018 CPC is calculated according to the following aspects and weights: 20% - Students performance in ENADE, 35% - Dif between expected and observed performance in ENADE (expected performance is calculated considing perfomance in courses with similiar students background), 7,5% - Proportion of teachers with MA degree, 15% - Proportion of teachers with Ph.D degree, 7,5% - Teachers work regime, 15% - Teachers perception regarding infraestructure, pedagogical organizatioin and opportunies to improvel academic and professional formation.\n",
    "\n",
    "2009 CPC has slight variations in some aspects weight\n",
    "\n",
    "CPC data from 2010 to 2017 can be found <a href='http://inep.gov.br/web/guest/educacao-superior/indicadores-de-qualidade/resultados'>here</a>\n",
    "\n",
    "Further information for the CPC can be found <a href='http://inep.gov.br/web/guest/educacao-superior/indicadores-de-qualidade/indice-geral-de-cursos-igc-'>here</a>"
   ]
  },
  {
   "cell_type": "code",
   "execution_count": null,
   "metadata": {},
   "outputs": [],
   "source": [
    "# CPC 2009\n",
    "webbrowser.open(\"http://download.inep.gov.br/download/enade/2009/cpc_decomposto_2009.xls\")    \n",
    "while not os.path.exists(\"C:/Users/Thiago/Downloads/cpc_decomposto_2009.xls\"):\n",
    "    time.sleep(1)            \n",
    "if os.path.isfile(\"C:/Users/Thiago/Downloads/cpc_decomposto_2009.xls\"):\n",
    "    continue\n",
    "    \n",
    "# CPC 2019\n",
    "webbrowser.open(\"http://download.inep.gov.br/educacao_superior/igc_cpc/2018/portal_CPC_edicao2018.xlsx\")    \n",
    "while not os.path.exists(\"C:/Users/Thiago/Downloads/portal_CPC_edicao2018.xlsx\"):\n",
    "    time.sleep(1)            \n",
    "if os.path.isfile(\"C:/Users/Thiago/Downloads/portal_CPC_edicao2018.xlsx\"):\n",
    "    continue\n",
    "    "
   ]
  },
  {
   "cell_type": "markdown",
   "metadata": {},
   "source": [
    "## General Course Index (IGC)"
   ]
  },
  {
   "cell_type": "markdown",
   "metadata": {},
   "source": [
    "The IGC provides a quality index for higher education instituion based on avarege CPC of the last three years, the distribution of students between undegrad and graduate levels and the evarage evaluation of graduation courses.\n",
    "\n",
    "More information about the IGC can be found <a href=\"http://inep.gov.br/web/guest/educacao-superior/indicadores-de-qualidade/indice-geral-de-cursos-igc-\">here</a> "
   ]
  },
  {
   "cell_type": "code",
   "execution_count": null,
   "metadata": {},
   "outputs": [],
   "source": [
    "webbrowser.open(\"http://download.inep.gov.br/download/areaigc/Downloads/igc_2009.xls\")\n",
    "webbrowser.open(\"http://download.inep.gov.br/educacao_superior/enade/igc/tabela_igc_2010_16_10_2012.xls\" )\n",
    "webbrowser.open(\"http://download.inep.gov.br/educacao_superior/enade/igc/tabela_igc_2011_15_01_2013.xls\")\n",
    "webbrowser.open(\"http://download.inep.gov.br/educacao_superior/enade/igc/tabela_igc_2012_30012014.xls\" )\n",
    "webbrowser.open(\"http://download.inep.gov.br/educacao_superior/enade/igc/2013/igc_2013_09022015.xlsx\")\n",
    "webbrowser.open(\"http://download.inep.gov.br/educacao_superior/enade/igc/2014/igc_2014.xlsx\")\n",
    "webbrowser.open(\"http://download.inep.gov.br/educacao_superior/indicadores/legislacao/2017/igc_2015_portal_04_12_2017.xlsx\")\n",
    "webbrowser.open(\"http://download.inep.gov.br/educacao_superior/igc_cpc/2016/resultado_igc_2016_11042018.xlsx\")\n",
    "webbrowser.open(\"http://download.inep.gov.br/educacao_superior/igc_cpc/2018/resultado_igc_2017.xlsx\")\n",
    "webbrowser.open(\"http://download.inep.gov.br/educacao_superior/igc_cpc/2018/portal_IGC_edicao2018.xlsx\")"
   ]
  },
  {
   "cell_type": "markdown",
   "metadata": {},
   "source": [
    "## Data Organization"
   ]
  },
  {
   "cell_type": "markdown",
   "metadata": {},
   "source": [
    "A manual work had to be employed in order to organize and padronize files names. There are an huge variety in zip files folders paths, file names and formats across years.\n",
    "\n",
    "In this manual process of data organization, the following file names were choosen:\n",
    "\n",
    "* For HEC data:\n",
    "student level files: alunos_'year';\n",
    "course level files: cursos_'year';\n",
    "university level files: ies_'year'\n",
    "\n",
    "* For IGC data: igc_'year'\n",
    "\n",
    "* For CPC data cpc_'year'\n",
    "\n",
    "All files are placed in 'data/csv_bases'"
   ]
  },
  {
   "cell_type": "code",
   "execution_count": null,
   "metadata": {},
   "outputs": [],
   "source": [
    "# Create new directory to keep the Project files\n",
    "\n",
    "# Important: Run only once\n",
    "\n",
    "os.chdir(\"C:/Users/Thiago/Documents/DataScience\")\n",
    "os.mkdir(\"Projeto_A\")\n",
    "os.mkdir(\"Projeto_A/DADOS\")"
   ]
  },
  {
   "cell_type": "code",
   "execution_count": null,
   "metadata": {},
   "outputs": [],
   "source": [
    "# Data Organization (cont.)\n",
    "\n",
    "os.chdir(\"C:/Users/Thiago/Downloads\")\n",
    "\n",
    "# Rename files to keep same name pattern\n",
    "\n",
    "for y in range(2009,2016):\n",
    "    os.rename(\"microdados_censo_superior_\" + str(y) + \".zip\",\"microdados_educacao_superior_\" + str(y) + \".zip\")\n",
    "\n",
    "# Copy files to the project directory\n",
    "\n",
    "files = []\n",
    "\n",
    "for y in range(1995,2019):    \n",
    "    files.append(\"microdados_educacao_superior_\" + str(y) + \".zip\")\n",
    "\n",
    "for f in files:\n",
    "    shutil.copy(f, 'C:/Users/Thiago/Documents/DataScience/Projeto_A/DADOS')\n",
    "    \n",
    "# Delete files from Downloads folder and compacted files from Project folder\n",
    "\n",
    "for y in range(1995,2019):\n",
    "    os.remove(\"microdados_educacao_superior_\" + str(y) + \".zip\")\n",
    "\n",
    "\n",
    "\n"
   ]
  },
  {
   "cell_type": "code",
   "execution_count": null,
   "metadata": {},
   "outputs": [],
   "source": [
    "# Extract zip files\n",
    "\n",
    "# TO DO list\n",
    "# 1 - Create a loop to identify all zip files in the directory and extract then to the same directory\n",
    "\n",
    "for y in range(1995,2019):\n",
    "    with zipfile.ZipFile('C:/Users/Thiago/Documents/DataScience/Projeto_A/DADOS/microdados_educacao_superior_' + str(y) +'.zip', 'r') as zip_ref:\n",
    "        zip_ref.extractall('C:/Users/Thiago/Documents/DataScience/Projeto_A/DADOS')\n",
    "    "
   ]
  },
  {
   "cell_type": "code",
   "execution_count": null,
   "metadata": {},
   "outputs": [],
   "source": [
    "# Toda organização e padrnozaição das bases de dados foi realizada de forma manual, em função do diferentes padrões de filenames."
   ]
  },
  {
   "cell_type": "code",
   "execution_count": 6,
   "metadata": {},
   "outputs": [],
   "source": [
    "# Defining directory\n",
    "\n",
    "define_dir = \"C:/Users/Thiago/Documents/DataScience/Projeto_A\"\n",
    "\n",
    "os.chdir(define_dir)"
   ]
  },
  {
   "cell_type": "code",
   "execution_count": 8,
   "metadata": {},
   "outputs": [
    {
     "name": "stderr",
     "output_type": "stream",
     "text": [
      "C:\\Users\\Thiago\\anaconda3\\lib\\site-packages\\pandas\\core\\indexing.py:671: SettingWithCopyWarning: \n",
      "A value is trying to be set on a copy of a slice from a DataFrame\n",
      "\n",
      "See the caveats in the documentation: https://pandas.pydata.org/pandas-docs/stable/user_guide/indexing.html#returning-a-view-versus-a-copy\n",
      "  self._setitem_with_indexer(indexer, value)\n"
     ]
    },
    {
     "data": {
      "text/plain": [
       "array([1., 2., 3., 4., 5., 6., 7., 8.])"
      ]
     },
     "execution_count": 8,
     "metadata": {},
     "output_type": "execute_result"
    }
   ],
   "source": [
    "cursos = pd.read_csv('data/cursos.csv', low_memory = False)\n",
    "\n",
    "# Create categorical variable for private/public schools\n",
    "\n",
    "cursos['NM_CATEGORIA_ADMINISTRATIVA'] = 'PRIVADA'\n",
    "\n",
    "cursos['NM_CATEGORIA_ADMINISTRATIVA'].loc[(cursos['CO_CATEGORIA_ADMINISTRATIVA'] < 4)] = 'PUBLICA'\n",
    "\n",
    "# keep only undergrad courses\n",
    "\n",
    "cursos = cursos[cursos['CO_GRAU_ACADEMICO'] == 1]\n",
    "\n",
    "\n",
    "cursos[\"NU_ANO\"] = cursos[\"NU_ANO\"].astype(str)\n",
    "\n",
    "ANO = cursos.groupby(['NU_ANO','NM_CATEGORIA_ADMINISTRATIVA','CO_OCDE_AREA_GERAL'])['QT_INGRESSO_CURSO'].sum().to_frame()\n",
    "ANO.reset_index(level=[0,1,2], inplace=True)\n",
    "ANO['GRUPO'] = 'INGRESSO'\n",
    "ANO = ANO.rename(columns={\"QT_INGRESSO_CURSO\" : \"TOTAL_ANO\"})\n",
    "\n",
    "CONCLUINTES = cursos.groupby(['NU_ANO','NM_CATEGORIA_ADMINISTRATIVA','CO_OCDE_AREA_GERAL'])['QT_CONCLUINTE_CURSO'].sum().to_frame()\n",
    "CONCLUINTES.reset_index(level=[0,1,2], inplace=True)\n",
    "CONCLUINTES['GRUPO'] = 'CONCLUINTES'\n",
    "CONCLUINTES = CONCLUINTES.rename(columns={\"QT_CONCLUINTE_CURSO\" : \"TOTAL_ANO\"})\n",
    "\n",
    "ANO = ANO.append([CONCLUINTES])\n",
    "ANO['CO_OCDE_AREA_GERAL'].unique()"
   ]
  },
  {
   "cell_type": "code",
   "execution_count": 14,
   "metadata": {},
   "outputs": [
    {
     "ename": "MemoryError",
     "evalue": "Unable to allocate 290. GiB for an array with shape (38963243376,) and data type int64",
     "output_type": "error",
     "traceback": [
      "\u001b[1;31m---------------------------------------------------------------------------\u001b[0m",
      "\u001b[1;31mMemoryError\u001b[0m                               Traceback (most recent call last)",
      "\u001b[1;32m<ipython-input-14-029be2c1cdf1>\u001b[0m in \u001b[0;36m<module>\u001b[1;34m\u001b[0m\n\u001b[0;32m      7\u001b[0m \u001b[0mANO\u001b[0m\u001b[1;33m[\u001b[0m\u001b[1;34m'CO_OCDE_AREA_GERAL'\u001b[0m\u001b[1;33m]\u001b[0m \u001b[1;33m=\u001b[0m \u001b[0mANO\u001b[0m\u001b[1;33m[\u001b[0m\u001b[1;34m'CO_OCDE_AREA_GERAL'\u001b[0m\u001b[1;33m]\u001b[0m\u001b[1;33m.\u001b[0m\u001b[0mastype\u001b[0m\u001b[1;33m(\u001b[0m\u001b[0mint\u001b[0m\u001b[1;33m)\u001b[0m\u001b[1;33m\u001b[0m\u001b[1;33m\u001b[0m\u001b[0m\n\u001b[0;32m      8\u001b[0m \u001b[1;33m\u001b[0m\u001b[0m\n\u001b[1;32m----> 9\u001b[1;33m \u001b[0mANO\u001b[0m \u001b[1;33m=\u001b[0m \u001b[0mpd\u001b[0m\u001b[1;33m.\u001b[0m\u001b[0mmerge\u001b[0m\u001b[1;33m(\u001b[0m\u001b[0mANO\u001b[0m\u001b[1;33m,\u001b[0m\u001b[0mnome_areas\u001b[0m\u001b[1;33m,\u001b[0m\u001b[0mhow\u001b[0m\u001b[1;33m=\u001b[0m\u001b[1;34m'inner'\u001b[0m\u001b[1;33m,\u001b[0m\u001b[0mon\u001b[0m\u001b[1;33m=\u001b[0m\u001b[1;33m[\u001b[0m\u001b[1;34m'CO_OCDE_AREA_GERAL'\u001b[0m\u001b[1;33m]\u001b[0m\u001b[1;33m)\u001b[0m\u001b[1;33m\u001b[0m\u001b[1;33m\u001b[0m\u001b[0m\n\u001b[0m\u001b[0;32m     10\u001b[0m \u001b[1;33m\u001b[0m\u001b[0m\n\u001b[0;32m     11\u001b[0m \u001b[0mANO\u001b[0m\u001b[1;33m.\u001b[0m\u001b[0mhead\u001b[0m\u001b[1;33m(\u001b[0m\u001b[1;33m)\u001b[0m\u001b[1;33m\u001b[0m\u001b[1;33m\u001b[0m\u001b[0m\n",
      "\u001b[1;32m~\\anaconda3\\lib\\site-packages\\pandas\\core\\reshape\\merge.py\u001b[0m in \u001b[0;36mmerge\u001b[1;34m(left, right, how, on, left_on, right_on, left_index, right_index, sort, suffixes, copy, indicator, validate)\u001b[0m\n\u001b[0;32m     86\u001b[0m         \u001b[0mvalidate\u001b[0m\u001b[1;33m=\u001b[0m\u001b[0mvalidate\u001b[0m\u001b[1;33m,\u001b[0m\u001b[1;33m\u001b[0m\u001b[1;33m\u001b[0m\u001b[0m\n\u001b[0;32m     87\u001b[0m     )\n\u001b[1;32m---> 88\u001b[1;33m     \u001b[1;32mreturn\u001b[0m \u001b[0mop\u001b[0m\u001b[1;33m.\u001b[0m\u001b[0mget_result\u001b[0m\u001b[1;33m(\u001b[0m\u001b[1;33m)\u001b[0m\u001b[1;33m\u001b[0m\u001b[1;33m\u001b[0m\u001b[0m\n\u001b[0m\u001b[0;32m     89\u001b[0m \u001b[1;33m\u001b[0m\u001b[0m\n\u001b[0;32m     90\u001b[0m \u001b[1;33m\u001b[0m\u001b[0m\n",
      "\u001b[1;32m~\\anaconda3\\lib\\site-packages\\pandas\\core\\reshape\\merge.py\u001b[0m in \u001b[0;36mget_result\u001b[1;34m(self)\u001b[0m\n\u001b[0;32m    641\u001b[0m             \u001b[0mself\u001b[0m\u001b[1;33m.\u001b[0m\u001b[0mleft\u001b[0m\u001b[1;33m,\u001b[0m \u001b[0mself\u001b[0m\u001b[1;33m.\u001b[0m\u001b[0mright\u001b[0m \u001b[1;33m=\u001b[0m \u001b[0mself\u001b[0m\u001b[1;33m.\u001b[0m\u001b[0m_indicator_pre_merge\u001b[0m\u001b[1;33m(\u001b[0m\u001b[0mself\u001b[0m\u001b[1;33m.\u001b[0m\u001b[0mleft\u001b[0m\u001b[1;33m,\u001b[0m \u001b[0mself\u001b[0m\u001b[1;33m.\u001b[0m\u001b[0mright\u001b[0m\u001b[1;33m)\u001b[0m\u001b[1;33m\u001b[0m\u001b[1;33m\u001b[0m\u001b[0m\n\u001b[0;32m    642\u001b[0m \u001b[1;33m\u001b[0m\u001b[0m\n\u001b[1;32m--> 643\u001b[1;33m         \u001b[0mjoin_index\u001b[0m\u001b[1;33m,\u001b[0m \u001b[0mleft_indexer\u001b[0m\u001b[1;33m,\u001b[0m \u001b[0mright_indexer\u001b[0m \u001b[1;33m=\u001b[0m \u001b[0mself\u001b[0m\u001b[1;33m.\u001b[0m\u001b[0m_get_join_info\u001b[0m\u001b[1;33m(\u001b[0m\u001b[1;33m)\u001b[0m\u001b[1;33m\u001b[0m\u001b[1;33m\u001b[0m\u001b[0m\n\u001b[0m\u001b[0;32m    644\u001b[0m \u001b[1;33m\u001b[0m\u001b[0m\n\u001b[0;32m    645\u001b[0m         \u001b[0mldata\u001b[0m\u001b[1;33m,\u001b[0m \u001b[0mrdata\u001b[0m \u001b[1;33m=\u001b[0m \u001b[0mself\u001b[0m\u001b[1;33m.\u001b[0m\u001b[0mleft\u001b[0m\u001b[1;33m.\u001b[0m\u001b[0m_data\u001b[0m\u001b[1;33m,\u001b[0m \u001b[0mself\u001b[0m\u001b[1;33m.\u001b[0m\u001b[0mright\u001b[0m\u001b[1;33m.\u001b[0m\u001b[0m_data\u001b[0m\u001b[1;33m\u001b[0m\u001b[1;33m\u001b[0m\u001b[0m\n",
      "\u001b[1;32m~\\anaconda3\\lib\\site-packages\\pandas\\core\\reshape\\merge.py\u001b[0m in \u001b[0;36m_get_join_info\u001b[1;34m(self)\u001b[0m\n\u001b[0;32m    860\u001b[0m             )\n\u001b[0;32m    861\u001b[0m         \u001b[1;32melse\u001b[0m\u001b[1;33m:\u001b[0m\u001b[1;33m\u001b[0m\u001b[1;33m\u001b[0m\u001b[0m\n\u001b[1;32m--> 862\u001b[1;33m             \u001b[1;33m(\u001b[0m\u001b[0mleft_indexer\u001b[0m\u001b[1;33m,\u001b[0m \u001b[0mright_indexer\u001b[0m\u001b[1;33m)\u001b[0m \u001b[1;33m=\u001b[0m \u001b[0mself\u001b[0m\u001b[1;33m.\u001b[0m\u001b[0m_get_join_indexers\u001b[0m\u001b[1;33m(\u001b[0m\u001b[1;33m)\u001b[0m\u001b[1;33m\u001b[0m\u001b[1;33m\u001b[0m\u001b[0m\n\u001b[0m\u001b[0;32m    863\u001b[0m \u001b[1;33m\u001b[0m\u001b[0m\n\u001b[0;32m    864\u001b[0m             \u001b[1;32mif\u001b[0m \u001b[0mself\u001b[0m\u001b[1;33m.\u001b[0m\u001b[0mright_index\u001b[0m\u001b[1;33m:\u001b[0m\u001b[1;33m\u001b[0m\u001b[1;33m\u001b[0m\u001b[0m\n",
      "\u001b[1;32m~\\anaconda3\\lib\\site-packages\\pandas\\core\\reshape\\merge.py\u001b[0m in \u001b[0;36m_get_join_indexers\u001b[1;34m(self)\u001b[0m\n\u001b[0;32m    838\u001b[0m     \u001b[1;32mdef\u001b[0m \u001b[0m_get_join_indexers\u001b[0m\u001b[1;33m(\u001b[0m\u001b[0mself\u001b[0m\u001b[1;33m)\u001b[0m\u001b[1;33m:\u001b[0m\u001b[1;33m\u001b[0m\u001b[1;33m\u001b[0m\u001b[0m\n\u001b[0;32m    839\u001b[0m         \u001b[1;34m\"\"\" return the join indexers \"\"\"\u001b[0m\u001b[1;33m\u001b[0m\u001b[1;33m\u001b[0m\u001b[0m\n\u001b[1;32m--> 840\u001b[1;33m         return _get_join_indexers(\n\u001b[0m\u001b[0;32m    841\u001b[0m             \u001b[0mself\u001b[0m\u001b[1;33m.\u001b[0m\u001b[0mleft_join_keys\u001b[0m\u001b[1;33m,\u001b[0m \u001b[0mself\u001b[0m\u001b[1;33m.\u001b[0m\u001b[0mright_join_keys\u001b[0m\u001b[1;33m,\u001b[0m \u001b[0msort\u001b[0m\u001b[1;33m=\u001b[0m\u001b[0mself\u001b[0m\u001b[1;33m.\u001b[0m\u001b[0msort\u001b[0m\u001b[1;33m,\u001b[0m \u001b[0mhow\u001b[0m\u001b[1;33m=\u001b[0m\u001b[0mself\u001b[0m\u001b[1;33m.\u001b[0m\u001b[0mhow\u001b[0m\u001b[1;33m\u001b[0m\u001b[1;33m\u001b[0m\u001b[0m\n\u001b[0;32m    842\u001b[0m         )\n",
      "\u001b[1;32m~\\anaconda3\\lib\\site-packages\\pandas\\core\\reshape\\merge.py\u001b[0m in \u001b[0;36m_get_join_indexers\u001b[1;34m(left_keys, right_keys, sort, how, **kwargs)\u001b[0m\n\u001b[0;32m   1326\u001b[0m     \u001b[0mjoin_func\u001b[0m \u001b[1;33m=\u001b[0m \u001b[0m_join_functions\u001b[0m\u001b[1;33m[\u001b[0m\u001b[0mhow\u001b[0m\u001b[1;33m]\u001b[0m\u001b[1;33m\u001b[0m\u001b[1;33m\u001b[0m\u001b[0m\n\u001b[0;32m   1327\u001b[0m \u001b[1;33m\u001b[0m\u001b[0m\n\u001b[1;32m-> 1328\u001b[1;33m     \u001b[1;32mreturn\u001b[0m \u001b[0mjoin_func\u001b[0m\u001b[1;33m(\u001b[0m\u001b[0mlkey\u001b[0m\u001b[1;33m,\u001b[0m \u001b[0mrkey\u001b[0m\u001b[1;33m,\u001b[0m \u001b[0mcount\u001b[0m\u001b[1;33m,\u001b[0m \u001b[1;33m**\u001b[0m\u001b[0mkwargs\u001b[0m\u001b[1;33m)\u001b[0m\u001b[1;33m\u001b[0m\u001b[1;33m\u001b[0m\u001b[0m\n\u001b[0m\u001b[0;32m   1329\u001b[0m \u001b[1;33m\u001b[0m\u001b[0m\n\u001b[0;32m   1330\u001b[0m \u001b[1;33m\u001b[0m\u001b[0m\n",
      "\u001b[1;32mpandas\\_libs\\join.pyx\u001b[0m in \u001b[0;36mpandas._libs.join.inner_join\u001b[1;34m()\u001b[0m\n",
      "\u001b[1;31mMemoryError\u001b[0m: Unable to allocate 290. GiB for an array with shape (38963243376,) and data type int64"
     ]
    }
   ],
   "source": [
    "# questões: comparar enter redes\n",
    "# manter apenas graduação\n",
    "# comparar entre áreas\n",
    "\n",
    "nome_areas = pd.read_csv('data/nome_areas.csv')\n",
    "nome_areas.head()\n",
    "ANO['CO_OCDE_AREA_GERAL'] = ANO['CO_OCDE_AREA_GERAL'].astype(int)\n",
    "\n",
    "ANO = pd.merge(ANO,nome_areas,how='inner',on=['CO_OCDE_AREA_GERAL'])"
   ]
  },
  {
   "cell_type": "code",
   "execution_count": 15,
   "metadata": {
    "scrolled": true
   },
   "outputs": [
    {
     "data": {
      "image/png": "[encoded data removed]",
      "text/plain": [
       "<Figure size 1326.88x576 with 8 Axes>"
      ]
     },
     "metadata": {
      "needs_background": "light"
     },
     "output_type": "display_data"
    }
   ],
   "source": [
    "cursos = pd.read_csv('data/cursos.csv', low_memory = False)\n",
    "\n",
    "# Create categorical variable for private/public schools\n",
    "\n",
    "cursos['NM_CATEGORIA_ADMINISTRATIVA'] = 'PRIVADA'\n",
    "\n",
    "cursos['NM_CATEGORIA_ADMINISTRATIVA'].loc[(cursos['CO_CATEGORIA_ADMINISTRATIVA'] < 4)] = 'PUBLICA'\n",
    "\n",
    "# keep only undergrad courses\n",
    "\n",
    "cursos = cursos[cursos['CO_GRAU_ACADEMICO'] == 1]\n",
    "\n",
    "cursos[\"NU_ANO\"] = cursos[\"NU_ANO\"].astype(str)\n",
    "\n",
    "sns.catplot(x=\"NU_ANO\",y=\"QT_INGRESSO_CURSO\",hue=\"NM_CATEGORIA_ADMINISTRATIVA\",data = cursos.loc[(cursos[\"CO_OCDE_AREA_DETALHADA\"]>0)], col=\"CO_OCDE_AREA_GERAL\", kind=\"bar\",ci=None, col_wrap=4,\n",
    "                height=4, aspect=1);\n",
    "\n",
    "cursos = cursos.loc[(cursos[\"CO_OCDE_AREA_DETALHADA\"]>0)]"
   ]
  },
  {
   "cell_type": "code",
   "execution_count": 42,
   "metadata": {},
   "outputs": [
    {
     "name": "stderr",
     "output_type": "stream",
     "text": [
      "C:\\Users\\Thiago\\anaconda3\\lib\\site-packages\\pandas\\core\\indexing.py:671: SettingWithCopyWarning: \n",
      "A value is trying to be set on a copy of a slice from a DataFrame\n",
      "\n",
      "See the caveats in the documentation: https://pandas.pydata.org/pandas-docs/stable/user_guide/indexing.html#returning-a-view-versus-a-copy\n",
      "  self._setitem_with_indexer(indexer, value)\n"
     ]
    },
    {
     "data": {
      "text/plain": [
       "count     35629\n",
       "unique      136\n",
       "top        2009\n",
       "freq       2169\n",
       "Name: ANO_INICIO, dtype: object"
      ]
     },
     "execution_count": 42,
     "metadata": {},
     "output_type": "execute_result"
    }
   ],
   "source": [
    "# Criar variável para ano de início de funcionamento dos cursos\n",
    "\n",
    "cursos['ANO_INICIO'] = cursos['DT_INICIO_FUNCIONAMENTO'].str[-4:]\n",
    "\n",
    "# Criar variável para categoria administrativa de curso superior\n",
    "\n",
    "cursos['TP_CATEGORIA'] = 'PRIVADA'\n",
    "\n",
    "cursos['TP_CATEGORIA'].loc[(cursos['TP_CATEGORIA_ADMINISTRATIVA'] < 4)] = 'PUBLICA'\n",
    "\n",
    "# Manter apenas cursos de graduação\n",
    "\n",
    "cursos = cursos[cursos['TP_NIVEL_ACADEMICO'] == 1]\n",
    "\n",
    "cursos['ANO_INICIO'].describe()"
   ]
  },
  {
   "cell_type": "code",
   "execution_count": 9,
   "metadata": {},
   "outputs": [
    {
     "data": {
      "text/html": [
       "<div>\n",
       "<style scoped>\n",
       "    .dataframe tbody tr th:only-of-type {\n",
       "        vertical-align: middle;\n",
       "    }\n",
       "\n",
       "    .dataframe tbody tr th {\n",
       "        vertical-align: top;\n",
       "    }\n",
       "\n",
       "    .dataframe thead th {\n",
       "        text-align: right;\n",
       "    }\n",
       "</style>\n",
       "<table border=\"1\" class=\"dataframe\">\n",
       "  <thead>\n",
       "    <tr style=\"text-align: right;\">\n",
       "      <th></th>\n",
       "      <th>ANO_INICIO</th>\n",
       "      <th>CO_MUNICIPIO</th>\n",
       "    </tr>\n",
       "  </thead>\n",
       "  <tbody>\n",
       "    <tr>\n",
       "      <th>0</th>\n",
       "      <td>1808</td>\n",
       "      <td>2</td>\n",
       "    </tr>\n",
       "    <tr>\n",
       "      <th>1</th>\n",
       "      <td>1811</td>\n",
       "      <td>1</td>\n",
       "    </tr>\n",
       "    <tr>\n",
       "      <th>2</th>\n",
       "      <td>1816</td>\n",
       "      <td>1</td>\n",
       "    </tr>\n",
       "    <tr>\n",
       "      <th>3</th>\n",
       "      <td>1820</td>\n",
       "      <td>1</td>\n",
       "    </tr>\n",
       "    <tr>\n",
       "      <th>4</th>\n",
       "      <td>1828</td>\n",
       "      <td>2</td>\n",
       "    </tr>\n",
       "  </tbody>\n",
       "</table>\n",
       "</div>"
      ],
      "text/plain": [
       "  ANO_INICIO  CO_MUNICIPIO\n",
       "0       1808             2\n",
       "1       1811             1\n",
       "2       1816             1\n",
       "3       1820             1\n",
       "4       1828             2"
      ]
     },
     "execution_count": 9,
     "metadata": {},
     "output_type": "execute_result"
    },
    {
     "data": {
      "image/png": "[encoded data removed]",
      "text/plain": [
       "<Figure size 1080x288 with 1 Axes>"
      ]
     },
     "metadata": {
      "needs_background": "light"
     },
     "output_type": "display_data"
    }
   ],
   "source": [
    "# Total de municípios com cursos novos por ano\n",
    "\n",
    "MunicipiosporAno = cursos.groupby('ANO_INICIO')['CO_MUNICIPIO'].nunique().to_frame()\n",
    "\n",
    "MunicipiosporAno.reset_index(level=0, inplace=True)\n",
    "\n",
    "plt.figure(figsize=(15,4))\n",
    "sns.lineplot(x=MunicipiosporAno['ANO_INICIO'], y=MunicipiosporAno['CO_MUNICIPIO'])\n",
    "plt.xlim(106, 136)"
   ]
  },
  {
   "cell_type": "code",
   "execution_count": null,
   "metadata": {},
   "outputs": [],
   "source": [
    "# Total de cursos x por ano x por rede\n",
    "\n",
    "# Obs: juntar os dois gráficos em único\n",
    "\n",
    "HistCursos_Privada = cursos[cursos['TP_CATEGORIA']=='PRIVADA'].groupby('ANO_INICIO')['CO_CURSO'].nunique().to_frame()\n",
    "HistCursos_Publica = cursos[cursos['TP_CATEGORIA']=='PUBLICA'].groupby('ANO_INICIO')['CO_CURSO'].nunique().to_frame()\n",
    "\n",
    "HistCursos_Publica.reset_index(level=0, inplace=True)\n",
    "HistCursos_Privada.reset_index(level=0, inplace=True)\n",
    "\n",
    "plt.figure(figsize=(15,4))\n",
    "sns.lineplot(x=HistCursos_Publica['ANO_INICIO'], y=HistCursos_Publica['CO_CURSO'])\n",
    "plt.xlim(106, 136)\n",
    "plt.axvline(129, color='r')\n",
    "plt.axvline(125, color='r')\n",
    "plt.axvline(121, color='r')"
   ]
  },
  {
   "cell_type": "code",
   "execution_count": null,
   "metadata": {},
   "outputs": [],
   "source": [
    "plt.figure(figsize=(15,4))\n",
    "sns.lineplot(x=HistCursos_Privada['ANO_INICIO'], y=HistCursos_Privada['CO_CURSO'])\n",
    "plt.xlim(59, 87)"
   ]
  },
  {
   "cell_type": "code",
   "execution_count": null,
   "metadata": {},
   "outputs": [],
   "source": [
    "# Total de vagas x por ano x por rede\n",
    "\n",
    "QuantVagasAbertas_Privada = cursos[cursos['TP_CATEGORIA']=='PRIVADA'].groupby('ANO_INICIO')['QT_VAGA_TOTAL'].sum().to_frame()\n",
    "QuantVagasAbertas_Publica = cursos[cursos['TP_CATEGORIA']=='PUBLICA'].groupby('ANO_INICIO')['QT_VAGA_TOTAL'].sum().to_frame()\n",
    "\n",
    "QuantVagasAbertas_Publica.reset_index(level=0, inplace=True)\n",
    "QuantVagasAbertas_Privada.reset_index(level=0, inplace=True)\n",
    "\n",
    "plt.figure(figsize=(15,4))\n",
    "sns.lineplot(x=QuantVagasAbertas_Publica['ANO_INICIO'], y=QuantVagasAbertas_Publica['QT_VAGA_TOTAL'])\n",
    "plt.xlim(106, 136)"
   ]
  },
  {
   "cell_type": "code",
   "execution_count": null,
   "metadata": {},
   "outputs": [],
   "source": [
    "plt.figure(figsize=(15,4))\n",
    "sns.lineplot(x=QuantVagasAbertas_Privada['ANO_INICIO'], y=QuantVagasAbertas_Privada['QT_VAGA_TOTAL'])\n",
    "plt.xlim(59, 87)"
   ]
  },
  {
   "cell_type": "code",
   "execution_count": null,
   "metadata": {},
   "outputs": [],
   "source": [
    "# Ano de fundação dos primeiros cursos públicos e privados por municipio\n",
    "\n",
    "AnoPrimeiroCurso_Municipio = pd.DataFrame({'CO_MUNICIPIO' : cursos['CO_MUNICIPIO'],\n",
    "                       'ANO_INICIO' : cursos['ANO_INICIO']})\n",
    "\n",
    "AnoPrimeiroCurso_Municipio = AnoPrimeiroCurso_Municipio.dropna().astype(int)\n",
    "\n",
    "AnoPrimeiroCurso_Municipio = AnoPrimeiroCurso_Municipio.groupby('CO_MUNICIPIO')['ANO_INICIO'].min()\n",
    "\n",
    "\n",
    "# Ano de fundaçãoo dos primeiros cursos públicos por município\n",
    "\n",
    "cursosPublicos = cursos[cursos['TP_CATEGORIA'] == 'PUBLICA']\n",
    "\n",
    "AnoPrimeiroCursoPublico_Municipio = pd.DataFrame({'CO_MUNICIPIO' : cursosPublicos['CO_MUNICIPIO'],\n",
    "                       'ANO_INICIO' : cursosPublicos['ANO_INICIO']})\n",
    "\n",
    "AnoPrimeiroCursoPublico_Municipio = AnoPrimeiroCursoPublico_Municipio.dropna().astype(int)\n",
    "\n",
    "AnoPrimeiroCursoPublico_Municipio = AnoPrimeiroCursoPublico_Municipio.groupby('CO_MUNICIPIO')['ANO_INICIO'].min().to_frame()\n",
    "\n",
    "AnoPrimeiroCursoPublico_Municipio.head()"
   ]
  },
  {
   "cell_type": "code",
   "execution_count": null,
   "metadata": {},
   "outputs": [],
   "source": [
    "# Base dados ENEM por escola 2005 - 2015\n",
    "\n",
    "enem_porEscola = pd.read_csv('MICRODADOS_ENEM_ESCOLA.csv', sep =';', encoding='latin-1')\n",
    "\n",
    "# Mantendo dados pós 2009, pois estão padronizados\n",
    "\n",
    "enem_porEscola = enem_porEscola[enem_porEscola['NU_ANO'] > 2008]\n",
    "\n",
    "# criar variável para indicar se escola é pública ou privada\n",
    "\n",
    "enem_porEscola['CATEGORIA_ESCOLA'] = 'PUBLICA'\n",
    "\n",
    "enem_porEscola['CATEGORIA_ESCOLA'].loc[(enem_porEscola['TP_DEPENDENCIA_ADM_ESCOLA'] == 4)] = 'PRIVADA'"
   ]
  },
  {
   "cell_type": "code",
   "execution_count": null,
   "metadata": {
    "jupyter": {
     "source_hidden": true
    }
   },
   "outputs": [],
   "source": [
    "# criando dataframe com médias de Taxa de participação no ENEM, Nota média em MT e LP no ENEM, Taxa de aprovação e Taxa de abandono\n",
    "\n",
    "enem_porEscola = enem_porEscola.rename(columns={\"CO_MUNICIPIO_ESCOLA\":\"CO_MUNICIPIO\"})\n",
    "\n",
    "txParticipacao_porMunicipio = enem_porEscola.groupby(['CO_MUNICIPIO', 'NU_ANO', 'CATEGORIA_ESCOLA'])['NU_TAXA_PARTICIPACAO'].mean().to_frame()\n",
    "#txParticipacao_porMunicipio.reset_index(level=[0,1,2], inplace=True)\n",
    "#txParticipacao_porMunicipio = txParticipacao_porMunicipio.rename(columns={\"CO_MUNICIPIO_ESCOLA\":\"CO_MUNICIPIO\"})\n",
    "\n",
    "txAprovacao_porMunicipio = enem_porEscola.groupby(['CO_MUNICIPIO', 'NU_ANO', 'CATEGORIA_ESCOLA'])['NU_TAXA_APROVACAO'].mean().to_frame()\n",
    "#txAprovacao_porMunicipio .reset_index(level=[0,1,2], inplace=True)\n",
    "#txAprovacao_porMunicipio = txAprovacao_porMunicipio.rename(columns={\"CO_MUNICIPIO_ESCOLA\":\"CO_MUNICIPIO\"})\n",
    "\n",
    "txAbandono_porMunicipio = enem_porEscola.groupby(['CO_MUNICIPIO', 'NU_ANO', 'CATEGORIA_ESCOLA'])['NU_TAXA_ABANDONO'].mean().to_frame()\n",
    "#txAbandono_porMunicipio.reset_index(level=[0,1,2], inplace=True)\n",
    "#txAbandono_porMunicipio = txAbandono_porMunicipio .rename(columns={\"CO_MUNICIPIO_ESCOLA\":\"CO_MUNICIPIO\"})\n",
    "\n",
    "ntMatematica_porMunicipio = enem_porEscola.groupby(['CO_MUNICIPIO', 'NU_ANO', 'CATEGORIA_ESCOLA'])['NU_MEDIA_MT'].mean().to_frame()\n",
    "#ntMatematica_porMunicipio.reset_index(level=[0,1,2], inplace=True)\n",
    "#ntMatematica_porMunicipio = ntMatematica_porMunicipio.rename(columns={\"CO_MUNICIPIO_ESCOLA\":\"CO_MUNICIPIO\"})\n",
    "\n",
    "outputs_porMunicipio = pd.merge(txParticipacao_porMunicipio,txAprovacao_porMunicipio,how='inner',on=['CO_MUNICIPIO', 'NU_ANO', 'CATEGORIA_ESCOLA'])\n",
    "outputs_porMunicipio = pd.merge(outputs_porMunicipio,txAbandono_porMunicipio,how='inner',on=['CO_MUNICIPIO', 'NU_ANO', 'CATEGORIA_ESCOLA'])\n",
    "outputs_porMunicipio = pd.merge(outputs_porMunicipio,ntMatematica_porMunicipio,how='inner',on=['CO_MUNICIPIO', 'NU_ANO', 'CATEGORIA_ESCOLA'])\n",
    "\n",
    "outputs_porMunicipio.reset_index(level=[1,2], inplace=True)\n",
    "\n",
    "outputs_porMunicipio = pd.merge(outputs_porMunicipio,AnoPrimeiroCursoPublico_Municipio,how='inner',on=['CO_MUNICIPIO'])\n",
    "\n",
    "outputs_porMunicipio.head()"
   ]
  },
  {
   "cell_type": "code",
   "execution_count": null,
   "metadata": {},
   "outputs": [],
   "source": [
    "# criar gráfico de linha para observar variação na taxa de participação no enem por categoria de escola\n",
    "\n",
    "sns.lineplot('NU_ANO', 'NU_TAXA_PARTICIPACAO', hue='CATEGORIA_ESCOLA',data=outputs_porMunicipio)\n",
    "#sns.lineplot('ANO_INICIO', 'NU_TAXA_APROVACAO', hue='CATEGORIA_ESCOLA',data=txAprovacao_porMunicipio)\n",
    "#sns.lineplot('ANO_INICIO', 'NU_TAXA_ABANDONO', hue='CATEGORIA_ESCOLA',data=txAbandono_porMunicipio)\n",
    "#sns.lineplot('ANO_INICIO', 'NU_MEDIA_MT', hue='CATEGORIA_ESCOLA',data=ntMatematica_porMunicipio)\n",
    "\n"
   ]
  },
  {
   "cell_type": "code",
   "execution_count": null,
   "metadata": {},
   "outputs": [],
   "source": [
    "# Evolução por Coorte\n",
    "\n",
    "outputs_porMunicipio_2014 = outputs_porMunicipio\n",
    "\n",
    "outputs_porMunicipio_2014['GRUPO'] = 'CONTROLE'\n",
    "\n",
    "outputs_porMunicipio_2014['GRUPO'].loc[(outputs_porMunicipio_2014['ANO_INICIO'] == 2014)] = 'TRATAMENTO'\n",
    "\n",
    "sns.lineplot('NU_ANO', 'NU_TAXA_ABANDONO', hue='GRUPO',data=outputs_porMunicipio_2014[outputs_porMunicipio_2014['CATEGORIA_ESCOLA'] == 'PRIVADA'])"
   ]
  },
  {
   "cell_type": "code",
   "execution_count": null,
   "metadata": {},
   "outputs": [],
   "source": [
    "sns.lineplot('NU_ANO', 'NU_TAXA_ABANDONO', hue='CATEGORIA_ESCOLA',data=outputs_porMunicipio[outputs_porMunicipio['ANO_INICIO'] == 2012])"
   ]
  },
  {
   "cell_type": "code",
   "execution_count": null,
   "metadata": {},
   "outputs": [],
   "source": [
    "# Análise var. Tx de Participação antes e depois de inauguração de curso público no múnicipio\n",
    "\n",
    "analise1 = outputs_porMunicipio.rename(columns={'NU_TAXA_PARTICIPACAO':'TXPARTICIPACAO_ANO_INICIO'})\n",
    "\n",
    "analise1['ANO_INICIO'] = analise1['ANO_INICIO'] - 1\n",
    "\n",
    "analise1 = pd.merge(analise1,txParticipacao_porMunicipio,how='inner',on=['CO_MUNICIPIO','ANO_INICIO'])\n",
    "\n",
    "analise1 = analise1.rename(columns={'NU_TAXA_PARTICIPACAO':'TRATAMENTO'})\n",
    "\n",
    "analise1['ANO_INICIO'] = analise1['ANO_INICIO'] - 2\n",
    "\n",
    "analise1 = pd.merge(analise1,txParticipacao_porMunicipio,how='inner',on=['CO_MUNICIPIO','ANO_INICIO'])\n",
    "\n",
    "analise1 = analise1.rename(columns={'NU_TAXA_PARTICIPACAO':'CONTROLE'})\n",
    "\n",
    "analise1 = analise1.drop(columns=['ANO_INICIO','CATEGORIA_ESCOLA_x','CATEGORIA_ESCOLA_y'])\n",
    "\n",
    "analise1 = analise1[['CO_MUNICIPIO','NU_ANO','CATEGORIA_ESCOLA','TRATAMENTO','CONTROLE']]\n",
    "\n",
    "analise1 = analise1.set_index(['CO_MUNICIPIO','NU_ANO','CATEGORIA_ESCOLA'])\n",
    "\n",
    "#analise1 = pd.DataFrame(analise1, index=index, columns=['TXPARTICIPACAO_ANO_INICIO','TXPARTICIPACAO_ANO_MENOS1','TXPARTICIPACAO_ANO_MENOS2'])\n",
    "\n",
    "stacked = analise1.stack().to_frame()\n",
    "\n",
    "stacked.reset_index(level=[0,1,2,3], inplace=True)\n",
    "\n",
    "stacked.rename(columns={0:'TAXA'}, inplace=True)\n",
    "\n",
    "stacked.head()"
   ]
  },
  {
   "cell_type": "code",
   "execution_count": null,
   "metadata": {},
   "outputs": [],
   "source": []
  },
  {
   "cell_type": "code",
   "execution_count": null,
   "metadata": {},
   "outputs": [],
   "source": [
    "sns.boxplot(x=\"NU_ANO\", y=\"TAXA\",\n",
    "            hue=\"level_3\", palette=[\"m\", \"g\"],\n",
    "            data=stacked[stacked['CATEGORIA_ESCOLA']=='PRIVADA'])"
   ]
  },
  {
   "cell_type": "code",
   "execution_count": null,
   "metadata": {},
   "outputs": [],
   "source": []
  },
  {
   "cell_type": "code",
   "execution_count": null,
   "metadata": {},
   "outputs": [],
   "source": []
  },
  {
   "cell_type": "code",
   "execution_count": null,
   "metadata": {},
   "outputs": [],
   "source": []
  },
  {
   "cell_type": "code",
   "execution_count": null,
   "metadata": {},
   "outputs": [],
   "source": []
  }
 ],
 "metadata": {
  "kernelspec": {
   "display_name": "Python 3",
   "language": "python",
   "name": "python3"
  },
  "language_info": {
   "codemirror_mode": {
    "name": "ipython",
    "version": 3
   },
   "file_extension": ".py",
   "mimetype": "text/x-python",
   "name": "python",
   "nbconvert_exporter": "python",
   "pygments_lexer": "ipython3",
   "version": "3.8.3"
  }
 },
 "nbformat": 4,
 "nbformat_minor": 4
}
